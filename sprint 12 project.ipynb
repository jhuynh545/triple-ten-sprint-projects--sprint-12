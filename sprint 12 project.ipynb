{
 "cells": [
  {
   "cell_type": "markdown",
   "metadata": {},
   "source": [
    "Rusty Bargain used car sales service is developing an app to attract new customers. In that app, you can quickly find out the market value of your car. You have access to historical data: technical specifications, trim versions, and prices. You need to build the model to determine the value. \n",
    "\n",
    "Rusty Bargain is interested in:\n",
    "\n",
    "- the quality of the prediction;\n",
    "- the speed of the prediction;\n",
    "- the time required for training"
   ]
  },
  {
   "cell_type": "code",
   "execution_count": 1,
   "metadata": {},
   "outputs": [],
   "source": [
    "import pandas as pd\n",
    "import numpy as np\n",
    "import matplotlib.pyplot as plt\n",
    "from sklearn.model_selection import train_test_split\n",
    "from sklearn.linear_model import LinearRegression\n",
    "from sklearn.tree import DecisionTreeRegressor\n",
    "from sklearn.ensemble import RandomForestRegressor\n",
    "from sklearn.metrics import mean_squared_error\n",
    "import lightgbm as lgb\n",
    "from catboost import CatBoostRegressor\n",
    "import xgboost as xgb\n",
    "from sklearn.model_selection import GridSearchCV\n",
    "from sklearn.preprocessing import StandardScaler\n",
    "import time "
   ]
  },
  {
   "cell_type": "code",
   "execution_count": 2,
   "metadata": {},
   "outputs": [],
   "source": [
    "df = pd.read_csv('/datasets/car_data.csv')"
   ]
  },
  {
   "cell_type": "code",
   "execution_count": 3,
   "metadata": {},
   "outputs": [
    {
     "name": "stdout",
     "output_type": "stream",
     "text": [
      "<class 'pandas.core.frame.DataFrame'>\n",
      "RangeIndex: 354369 entries, 0 to 354368\n",
      "Data columns (total 16 columns):\n",
      " #   Column             Non-Null Count   Dtype \n",
      "---  ------             --------------   ----- \n",
      " 0   DateCrawled        354369 non-null  object\n",
      " 1   Price              354369 non-null  int64 \n",
      " 2   VehicleType        316879 non-null  object\n",
      " 3   RegistrationYear   354369 non-null  int64 \n",
      " 4   Gearbox            334536 non-null  object\n",
      " 5   Power              354369 non-null  int64 \n",
      " 6   Model              334664 non-null  object\n",
      " 7   Mileage            354369 non-null  int64 \n",
      " 8   RegistrationMonth  354369 non-null  int64 \n",
      " 9   FuelType           321474 non-null  object\n",
      " 10  Brand              354369 non-null  object\n",
      " 11  NotRepaired        283215 non-null  object\n",
      " 12  DateCreated        354369 non-null  object\n",
      " 13  NumberOfPictures   354369 non-null  int64 \n",
      " 14  PostalCode         354369 non-null  int64 \n",
      " 15  LastSeen           354369 non-null  object\n",
      "dtypes: int64(7), object(9)\n",
      "memory usage: 43.3+ MB\n"
     ]
    }
   ],
   "source": [
    "df.info()"
   ]
  },
  {
   "cell_type": "code",
   "execution_count": 4,
   "metadata": {},
   "outputs": [
    {
     "data": {
      "text/html": [
       "<div>\n",
       "<style scoped>\n",
       "    .dataframe tbody tr th:only-of-type {\n",
       "        vertical-align: middle;\n",
       "    }\n",
       "\n",
       "    .dataframe tbody tr th {\n",
       "        vertical-align: top;\n",
       "    }\n",
       "\n",
       "    .dataframe thead th {\n",
       "        text-align: right;\n",
       "    }\n",
       "</style>\n",
       "<table border=\"1\" class=\"dataframe\">\n",
       "  <thead>\n",
       "    <tr style=\"text-align: right;\">\n",
       "      <th></th>\n",
       "      <th>Price</th>\n",
       "      <th>RegistrationYear</th>\n",
       "      <th>Power</th>\n",
       "      <th>Mileage</th>\n",
       "      <th>RegistrationMonth</th>\n",
       "      <th>NumberOfPictures</th>\n",
       "      <th>PostalCode</th>\n",
       "    </tr>\n",
       "  </thead>\n",
       "  <tbody>\n",
       "    <tr>\n",
       "      <th>count</th>\n",
       "      <td>354369.000000</td>\n",
       "      <td>354369.000000</td>\n",
       "      <td>354369.000000</td>\n",
       "      <td>354369.000000</td>\n",
       "      <td>354369.000000</td>\n",
       "      <td>354369.0</td>\n",
       "      <td>354369.000000</td>\n",
       "    </tr>\n",
       "    <tr>\n",
       "      <th>mean</th>\n",
       "      <td>4416.656776</td>\n",
       "      <td>2004.234448</td>\n",
       "      <td>110.094337</td>\n",
       "      <td>128211.172535</td>\n",
       "      <td>5.714645</td>\n",
       "      <td>0.0</td>\n",
       "      <td>50508.689087</td>\n",
       "    </tr>\n",
       "    <tr>\n",
       "      <th>std</th>\n",
       "      <td>4514.158514</td>\n",
       "      <td>90.227958</td>\n",
       "      <td>189.850405</td>\n",
       "      <td>37905.341530</td>\n",
       "      <td>3.726421</td>\n",
       "      <td>0.0</td>\n",
       "      <td>25783.096248</td>\n",
       "    </tr>\n",
       "    <tr>\n",
       "      <th>min</th>\n",
       "      <td>0.000000</td>\n",
       "      <td>1000.000000</td>\n",
       "      <td>0.000000</td>\n",
       "      <td>5000.000000</td>\n",
       "      <td>0.000000</td>\n",
       "      <td>0.0</td>\n",
       "      <td>1067.000000</td>\n",
       "    </tr>\n",
       "    <tr>\n",
       "      <th>25%</th>\n",
       "      <td>1050.000000</td>\n",
       "      <td>1999.000000</td>\n",
       "      <td>69.000000</td>\n",
       "      <td>125000.000000</td>\n",
       "      <td>3.000000</td>\n",
       "      <td>0.0</td>\n",
       "      <td>30165.000000</td>\n",
       "    </tr>\n",
       "    <tr>\n",
       "      <th>50%</th>\n",
       "      <td>2700.000000</td>\n",
       "      <td>2003.000000</td>\n",
       "      <td>105.000000</td>\n",
       "      <td>150000.000000</td>\n",
       "      <td>6.000000</td>\n",
       "      <td>0.0</td>\n",
       "      <td>49413.000000</td>\n",
       "    </tr>\n",
       "    <tr>\n",
       "      <th>75%</th>\n",
       "      <td>6400.000000</td>\n",
       "      <td>2008.000000</td>\n",
       "      <td>143.000000</td>\n",
       "      <td>150000.000000</td>\n",
       "      <td>9.000000</td>\n",
       "      <td>0.0</td>\n",
       "      <td>71083.000000</td>\n",
       "    </tr>\n",
       "    <tr>\n",
       "      <th>max</th>\n",
       "      <td>20000.000000</td>\n",
       "      <td>9999.000000</td>\n",
       "      <td>20000.000000</td>\n",
       "      <td>150000.000000</td>\n",
       "      <td>12.000000</td>\n",
       "      <td>0.0</td>\n",
       "      <td>99998.000000</td>\n",
       "    </tr>\n",
       "  </tbody>\n",
       "</table>\n",
       "</div>"
      ],
      "text/plain": [
       "               Price  RegistrationYear          Power        Mileage  \\\n",
       "count  354369.000000     354369.000000  354369.000000  354369.000000   \n",
       "mean     4416.656776       2004.234448     110.094337  128211.172535   \n",
       "std      4514.158514         90.227958     189.850405   37905.341530   \n",
       "min         0.000000       1000.000000       0.000000    5000.000000   \n",
       "25%      1050.000000       1999.000000      69.000000  125000.000000   \n",
       "50%      2700.000000       2003.000000     105.000000  150000.000000   \n",
       "75%      6400.000000       2008.000000     143.000000  150000.000000   \n",
       "max     20000.000000       9999.000000   20000.000000  150000.000000   \n",
       "\n",
       "       RegistrationMonth  NumberOfPictures     PostalCode  \n",
       "count      354369.000000          354369.0  354369.000000  \n",
       "mean            5.714645               0.0   50508.689087  \n",
       "std             3.726421               0.0   25783.096248  \n",
       "min             0.000000               0.0    1067.000000  \n",
       "25%             3.000000               0.0   30165.000000  \n",
       "50%             6.000000               0.0   49413.000000  \n",
       "75%             9.000000               0.0   71083.000000  \n",
       "max            12.000000               0.0   99998.000000  "
      ]
     },
     "execution_count": 4,
     "metadata": {},
     "output_type": "execute_result"
    }
   ],
   "source": [
    "df.describe()"
   ]
  },
  {
   "cell_type": "code",
   "execution_count": 5,
   "metadata": {},
   "outputs": [
    {
     "data": {
      "text/html": [
       "<div>\n",
       "<style scoped>\n",
       "    .dataframe tbody tr th:only-of-type {\n",
       "        vertical-align: middle;\n",
       "    }\n",
       "\n",
       "    .dataframe tbody tr th {\n",
       "        vertical-align: top;\n",
       "    }\n",
       "\n",
       "    .dataframe thead th {\n",
       "        text-align: right;\n",
       "    }\n",
       "</style>\n",
       "<table border=\"1\" class=\"dataframe\">\n",
       "  <thead>\n",
       "    <tr style=\"text-align: right;\">\n",
       "      <th></th>\n",
       "      <th>DateCrawled</th>\n",
       "      <th>Price</th>\n",
       "      <th>VehicleType</th>\n",
       "      <th>RegistrationYear</th>\n",
       "      <th>Gearbox</th>\n",
       "      <th>Power</th>\n",
       "      <th>Model</th>\n",
       "      <th>Mileage</th>\n",
       "      <th>RegistrationMonth</th>\n",
       "      <th>FuelType</th>\n",
       "      <th>Brand</th>\n",
       "      <th>NotRepaired</th>\n",
       "      <th>DateCreated</th>\n",
       "      <th>NumberOfPictures</th>\n",
       "      <th>PostalCode</th>\n",
       "      <th>LastSeen</th>\n",
       "    </tr>\n",
       "  </thead>\n",
       "  <tbody>\n",
       "    <tr>\n",
       "      <th>0</th>\n",
       "      <td>24/03/2016 11:52</td>\n",
       "      <td>480</td>\n",
       "      <td>NaN</td>\n",
       "      <td>1993</td>\n",
       "      <td>manual</td>\n",
       "      <td>0</td>\n",
       "      <td>golf</td>\n",
       "      <td>150000</td>\n",
       "      <td>0</td>\n",
       "      <td>petrol</td>\n",
       "      <td>volkswagen</td>\n",
       "      <td>NaN</td>\n",
       "      <td>24/03/2016 00:00</td>\n",
       "      <td>0</td>\n",
       "      <td>70435</td>\n",
       "      <td>07/04/2016 03:16</td>\n",
       "    </tr>\n",
       "    <tr>\n",
       "      <th>1</th>\n",
       "      <td>24/03/2016 10:58</td>\n",
       "      <td>18300</td>\n",
       "      <td>coupe</td>\n",
       "      <td>2011</td>\n",
       "      <td>manual</td>\n",
       "      <td>190</td>\n",
       "      <td>NaN</td>\n",
       "      <td>125000</td>\n",
       "      <td>5</td>\n",
       "      <td>gasoline</td>\n",
       "      <td>audi</td>\n",
       "      <td>yes</td>\n",
       "      <td>24/03/2016 00:00</td>\n",
       "      <td>0</td>\n",
       "      <td>66954</td>\n",
       "      <td>07/04/2016 01:46</td>\n",
       "    </tr>\n",
       "    <tr>\n",
       "      <th>2</th>\n",
       "      <td>14/03/2016 12:52</td>\n",
       "      <td>9800</td>\n",
       "      <td>suv</td>\n",
       "      <td>2004</td>\n",
       "      <td>auto</td>\n",
       "      <td>163</td>\n",
       "      <td>grand</td>\n",
       "      <td>125000</td>\n",
       "      <td>8</td>\n",
       "      <td>gasoline</td>\n",
       "      <td>jeep</td>\n",
       "      <td>NaN</td>\n",
       "      <td>14/03/2016 00:00</td>\n",
       "      <td>0</td>\n",
       "      <td>90480</td>\n",
       "      <td>05/04/2016 12:47</td>\n",
       "    </tr>\n",
       "    <tr>\n",
       "      <th>3</th>\n",
       "      <td>17/03/2016 16:54</td>\n",
       "      <td>1500</td>\n",
       "      <td>small</td>\n",
       "      <td>2001</td>\n",
       "      <td>manual</td>\n",
       "      <td>75</td>\n",
       "      <td>golf</td>\n",
       "      <td>150000</td>\n",
       "      <td>6</td>\n",
       "      <td>petrol</td>\n",
       "      <td>volkswagen</td>\n",
       "      <td>no</td>\n",
       "      <td>17/03/2016 00:00</td>\n",
       "      <td>0</td>\n",
       "      <td>91074</td>\n",
       "      <td>17/03/2016 17:40</td>\n",
       "    </tr>\n",
       "    <tr>\n",
       "      <th>4</th>\n",
       "      <td>31/03/2016 17:25</td>\n",
       "      <td>3600</td>\n",
       "      <td>small</td>\n",
       "      <td>2008</td>\n",
       "      <td>manual</td>\n",
       "      <td>69</td>\n",
       "      <td>fabia</td>\n",
       "      <td>90000</td>\n",
       "      <td>7</td>\n",
       "      <td>gasoline</td>\n",
       "      <td>skoda</td>\n",
       "      <td>no</td>\n",
       "      <td>31/03/2016 00:00</td>\n",
       "      <td>0</td>\n",
       "      <td>60437</td>\n",
       "      <td>06/04/2016 10:17</td>\n",
       "    </tr>\n",
       "  </tbody>\n",
       "</table>\n",
       "</div>"
      ],
      "text/plain": [
       "        DateCrawled  Price VehicleType  RegistrationYear Gearbox  Power  \\\n",
       "0  24/03/2016 11:52    480         NaN              1993  manual      0   \n",
       "1  24/03/2016 10:58  18300       coupe              2011  manual    190   \n",
       "2  14/03/2016 12:52   9800         suv              2004    auto    163   \n",
       "3  17/03/2016 16:54   1500       small              2001  manual     75   \n",
       "4  31/03/2016 17:25   3600       small              2008  manual     69   \n",
       "\n",
       "   Model  Mileage  RegistrationMonth  FuelType       Brand NotRepaired  \\\n",
       "0   golf   150000                  0    petrol  volkswagen         NaN   \n",
       "1    NaN   125000                  5  gasoline        audi         yes   \n",
       "2  grand   125000                  8  gasoline        jeep         NaN   \n",
       "3   golf   150000                  6    petrol  volkswagen          no   \n",
       "4  fabia    90000                  7  gasoline       skoda          no   \n",
       "\n",
       "        DateCreated  NumberOfPictures  PostalCode          LastSeen  \n",
       "0  24/03/2016 00:00                 0       70435  07/04/2016 03:16  \n",
       "1  24/03/2016 00:00                 0       66954  07/04/2016 01:46  \n",
       "2  14/03/2016 00:00                 0       90480  05/04/2016 12:47  \n",
       "3  17/03/2016 00:00                 0       91074  17/03/2016 17:40  \n",
       "4  31/03/2016 00:00                 0       60437  06/04/2016 10:17  "
      ]
     },
     "execution_count": 5,
     "metadata": {},
     "output_type": "execute_result"
    }
   ],
   "source": [
    "df.head()"
   ]
  },
  {
   "cell_type": "code",
   "execution_count": 6,
   "metadata": {},
   "outputs": [
    {
     "data": {
      "text/html": [
       "<div>\n",
       "<style scoped>\n",
       "    .dataframe tbody tr th:only-of-type {\n",
       "        vertical-align: middle;\n",
       "    }\n",
       "\n",
       "    .dataframe tbody tr th {\n",
       "        vertical-align: top;\n",
       "    }\n",
       "\n",
       "    .dataframe thead th {\n",
       "        text-align: right;\n",
       "    }\n",
       "</style>\n",
       "<table border=\"1\" class=\"dataframe\">\n",
       "  <thead>\n",
       "    <tr style=\"text-align: right;\">\n",
       "      <th></th>\n",
       "      <th>DateCrawled</th>\n",
       "      <th>Price</th>\n",
       "      <th>VehicleType</th>\n",
       "      <th>RegistrationYear</th>\n",
       "      <th>Gearbox</th>\n",
       "      <th>Power</th>\n",
       "      <th>Model</th>\n",
       "      <th>Mileage</th>\n",
       "      <th>RegistrationMonth</th>\n",
       "      <th>FuelType</th>\n",
       "      <th>Brand</th>\n",
       "      <th>NotRepaired</th>\n",
       "      <th>DateCreated</th>\n",
       "      <th>NumberOfPictures</th>\n",
       "      <th>PostalCode</th>\n",
       "      <th>LastSeen</th>\n",
       "    </tr>\n",
       "  </thead>\n",
       "  <tbody>\n",
       "    <tr>\n",
       "      <th>354364</th>\n",
       "      <td>21/03/2016 09:50</td>\n",
       "      <td>0</td>\n",
       "      <td>NaN</td>\n",
       "      <td>2005</td>\n",
       "      <td>manual</td>\n",
       "      <td>0</td>\n",
       "      <td>colt</td>\n",
       "      <td>150000</td>\n",
       "      <td>7</td>\n",
       "      <td>petrol</td>\n",
       "      <td>mitsubishi</td>\n",
       "      <td>yes</td>\n",
       "      <td>21/03/2016 00:00</td>\n",
       "      <td>0</td>\n",
       "      <td>2694</td>\n",
       "      <td>21/03/2016 10:42</td>\n",
       "    </tr>\n",
       "    <tr>\n",
       "      <th>354365</th>\n",
       "      <td>14/03/2016 17:48</td>\n",
       "      <td>2200</td>\n",
       "      <td>NaN</td>\n",
       "      <td>2005</td>\n",
       "      <td>NaN</td>\n",
       "      <td>0</td>\n",
       "      <td>NaN</td>\n",
       "      <td>20000</td>\n",
       "      <td>1</td>\n",
       "      <td>NaN</td>\n",
       "      <td>sonstige_autos</td>\n",
       "      <td>NaN</td>\n",
       "      <td>14/03/2016 00:00</td>\n",
       "      <td>0</td>\n",
       "      <td>39576</td>\n",
       "      <td>06/04/2016 00:46</td>\n",
       "    </tr>\n",
       "    <tr>\n",
       "      <th>354366</th>\n",
       "      <td>05/03/2016 19:56</td>\n",
       "      <td>1199</td>\n",
       "      <td>convertible</td>\n",
       "      <td>2000</td>\n",
       "      <td>auto</td>\n",
       "      <td>101</td>\n",
       "      <td>fortwo</td>\n",
       "      <td>125000</td>\n",
       "      <td>3</td>\n",
       "      <td>petrol</td>\n",
       "      <td>smart</td>\n",
       "      <td>no</td>\n",
       "      <td>05/03/2016 00:00</td>\n",
       "      <td>0</td>\n",
       "      <td>26135</td>\n",
       "      <td>11/03/2016 18:17</td>\n",
       "    </tr>\n",
       "    <tr>\n",
       "      <th>354367</th>\n",
       "      <td>19/03/2016 18:57</td>\n",
       "      <td>9200</td>\n",
       "      <td>bus</td>\n",
       "      <td>1996</td>\n",
       "      <td>manual</td>\n",
       "      <td>102</td>\n",
       "      <td>transporter</td>\n",
       "      <td>150000</td>\n",
       "      <td>3</td>\n",
       "      <td>gasoline</td>\n",
       "      <td>volkswagen</td>\n",
       "      <td>no</td>\n",
       "      <td>19/03/2016 00:00</td>\n",
       "      <td>0</td>\n",
       "      <td>87439</td>\n",
       "      <td>07/04/2016 07:15</td>\n",
       "    </tr>\n",
       "    <tr>\n",
       "      <th>354368</th>\n",
       "      <td>20/03/2016 19:41</td>\n",
       "      <td>3400</td>\n",
       "      <td>wagon</td>\n",
       "      <td>2002</td>\n",
       "      <td>manual</td>\n",
       "      <td>100</td>\n",
       "      <td>golf</td>\n",
       "      <td>150000</td>\n",
       "      <td>6</td>\n",
       "      <td>gasoline</td>\n",
       "      <td>volkswagen</td>\n",
       "      <td>NaN</td>\n",
       "      <td>20/03/2016 00:00</td>\n",
       "      <td>0</td>\n",
       "      <td>40764</td>\n",
       "      <td>24/03/2016 12:45</td>\n",
       "    </tr>\n",
       "  </tbody>\n",
       "</table>\n",
       "</div>"
      ],
      "text/plain": [
       "             DateCrawled  Price  VehicleType  RegistrationYear Gearbox  Power  \\\n",
       "354364  21/03/2016 09:50      0          NaN              2005  manual      0   \n",
       "354365  14/03/2016 17:48   2200          NaN              2005     NaN      0   \n",
       "354366  05/03/2016 19:56   1199  convertible              2000    auto    101   \n",
       "354367  19/03/2016 18:57   9200          bus              1996  manual    102   \n",
       "354368  20/03/2016 19:41   3400        wagon              2002  manual    100   \n",
       "\n",
       "              Model  Mileage  RegistrationMonth  FuelType           Brand  \\\n",
       "354364         colt   150000                  7    petrol      mitsubishi   \n",
       "354365          NaN    20000                  1       NaN  sonstige_autos   \n",
       "354366       fortwo   125000                  3    petrol           smart   \n",
       "354367  transporter   150000                  3  gasoline      volkswagen   \n",
       "354368         golf   150000                  6  gasoline      volkswagen   \n",
       "\n",
       "       NotRepaired       DateCreated  NumberOfPictures  PostalCode  \\\n",
       "354364         yes  21/03/2016 00:00                 0        2694   \n",
       "354365         NaN  14/03/2016 00:00                 0       39576   \n",
       "354366          no  05/03/2016 00:00                 0       26135   \n",
       "354367          no  19/03/2016 00:00                 0       87439   \n",
       "354368         NaN  20/03/2016 00:00                 0       40764   \n",
       "\n",
       "                LastSeen  \n",
       "354364  21/03/2016 10:42  \n",
       "354365  06/04/2016 00:46  \n",
       "354366  11/03/2016 18:17  \n",
       "354367  07/04/2016 07:15  \n",
       "354368  24/03/2016 12:45  "
      ]
     },
     "execution_count": 6,
     "metadata": {},
     "output_type": "execute_result"
    }
   ],
   "source": [
    "df.tail()"
   ]
  },
  {
   "cell_type": "markdown",
   "metadata": {},
   "source": [
    "The dataset contains 354,369 rows and 16 columns. There are 7 integer columns and 9 object columns. There are several columns with missing values, but we will handle them later. \n",
    "\n",
    "The statistical summary provides key insights into the distribution and potential issues in the numerical columns of the dataset. The mean price is 4416.66 in dollars. The standard deviation for the price in dollars is 4514.16 and suggests a large variation in car prices. The minimum and maximum values for the registration year are unrealistic indicating that there are entry errors or outliers. Power has a very wide range, with an exceptionally high maximum. The mileage column appears more consistent than other columns. The registration months are January through December. The number of pictures provide no useful information. The postal code has a wide range, reflecting the diverse geographical areas in the dataset.\n",
    "\n",
    "The first and last five rows have been displayed."
   ]
  },
  {
   "cell_type": "markdown",
   "metadata": {},
   "source": [
    "## Data preparation"
   ]
  },
  {
   "cell_type": "code",
   "execution_count": 7,
   "metadata": {},
   "outputs": [
    {
     "data": {
      "text/html": [
       "<div>\n",
       "<style scoped>\n",
       "    .dataframe tbody tr th:only-of-type {\n",
       "        vertical-align: middle;\n",
       "    }\n",
       "\n",
       "    .dataframe tbody tr th {\n",
       "        vertical-align: top;\n",
       "    }\n",
       "\n",
       "    .dataframe thead th {\n",
       "        text-align: right;\n",
       "    }\n",
       "</style>\n",
       "<table border=\"1\" class=\"dataframe\">\n",
       "  <thead>\n",
       "    <tr style=\"text-align: right;\">\n",
       "      <th></th>\n",
       "      <th>Missing Values</th>\n",
       "      <th>Percentage</th>\n",
       "    </tr>\n",
       "  </thead>\n",
       "  <tbody>\n",
       "    <tr>\n",
       "      <th>NotRepaired</th>\n",
       "      <td>71154</td>\n",
       "      <td>20.079070</td>\n",
       "    </tr>\n",
       "    <tr>\n",
       "      <th>VehicleType</th>\n",
       "      <td>37490</td>\n",
       "      <td>10.579368</td>\n",
       "    </tr>\n",
       "    <tr>\n",
       "      <th>FuelType</th>\n",
       "      <td>32895</td>\n",
       "      <td>9.282697</td>\n",
       "    </tr>\n",
       "    <tr>\n",
       "      <th>Gearbox</th>\n",
       "      <td>19833</td>\n",
       "      <td>5.596709</td>\n",
       "    </tr>\n",
       "    <tr>\n",
       "      <th>Model</th>\n",
       "      <td>19705</td>\n",
       "      <td>5.560588</td>\n",
       "    </tr>\n",
       "  </tbody>\n",
       "</table>\n",
       "</div>"
      ],
      "text/plain": [
       "             Missing Values  Percentage\n",
       "NotRepaired           71154   20.079070\n",
       "VehicleType           37490   10.579368\n",
       "FuelType              32895    9.282697\n",
       "Gearbox               19833    5.596709\n",
       "Model                 19705    5.560588"
      ]
     },
     "metadata": {},
     "output_type": "display_data"
    }
   ],
   "source": [
    "# Check missing values\n",
    "missing_values = df.isnull().sum()\n",
    "missing_percent = (missing_values / len(df)) * 100\n",
    "missing_data = pd.DataFrame({'Missing Values': missing_values, 'Percentage': missing_percent})\n",
    "display(missing_data[missing_data['Missing Values'] > 0].sort_values(by='Percentage', ascending=False))"
   ]
  },
  {
   "cell_type": "code",
   "execution_count": 8,
   "metadata": {},
   "outputs": [],
   "source": [
    "# Handle missing values by filling in with mode\n",
    "categorical_columns = ['VehicleType', 'Gearbox', 'Model', 'FuelType', 'NotRepaired']\n",
    "for column in categorical_columns:\n",
    "    df[column].fillna(df[column].mode()[0], inplace=True)"
   ]
  },
  {
   "cell_type": "code",
   "execution_count": 9,
   "metadata": {},
   "outputs": [
    {
     "name": "stdout",
     "output_type": "stream",
     "text": [
      "Number of duplicate rows: 299\n"
     ]
    }
   ],
   "source": [
    "# Check for duplicates\n",
    "duplicate_count = df.duplicated().sum()\n",
    "print(f\"Number of duplicate rows: {duplicate_count}\")"
   ]
  },
  {
   "cell_type": "code",
   "execution_count": 10,
   "metadata": {},
   "outputs": [
    {
     "name": "stdout",
     "output_type": "stream",
     "text": [
      "Duplicates removed. New shape of the dataset: (354070, 16)\n"
     ]
    }
   ],
   "source": [
    "# Handle duplicates\n",
    "if duplicate_count > 0:\n",
    "    df = df.drop_duplicates()\n",
    "    print(f\"Duplicates removed. New shape of the dataset: {df.shape}\")"
   ]
  },
  {
   "cell_type": "code",
   "execution_count": 11,
   "metadata": {},
   "outputs": [
    {
     "data": {
      "text/html": [
       "<div>\n",
       "<style scoped>\n",
       "    .dataframe tbody tr th:only-of-type {\n",
       "        vertical-align: middle;\n",
       "    }\n",
       "\n",
       "    .dataframe tbody tr th {\n",
       "        vertical-align: top;\n",
       "    }\n",
       "\n",
       "    .dataframe thead th {\n",
       "        text-align: right;\n",
       "    }\n",
       "</style>\n",
       "<table border=\"1\" class=\"dataframe\">\n",
       "  <thead>\n",
       "    <tr style=\"text-align: right;\">\n",
       "      <th></th>\n",
       "      <th>Price</th>\n",
       "      <th>VehicleType</th>\n",
       "      <th>RegistrationYear</th>\n",
       "      <th>Gearbox</th>\n",
       "      <th>Power</th>\n",
       "      <th>Model</th>\n",
       "      <th>Mileage</th>\n",
       "      <th>RegistrationMonth</th>\n",
       "      <th>FuelType</th>\n",
       "      <th>Brand</th>\n",
       "      <th>NotRepaired</th>\n",
       "      <th>NumberOfPictures</th>\n",
       "      <th>PostalCode</th>\n",
       "    </tr>\n",
       "  </thead>\n",
       "  <tbody>\n",
       "    <tr>\n",
       "      <th>0</th>\n",
       "      <td>480</td>\n",
       "      <td>sedan</td>\n",
       "      <td>1993</td>\n",
       "      <td>manual</td>\n",
       "      <td>0</td>\n",
       "      <td>golf</td>\n",
       "      <td>150000</td>\n",
       "      <td>0</td>\n",
       "      <td>petrol</td>\n",
       "      <td>volkswagen</td>\n",
       "      <td>no</td>\n",
       "      <td>0</td>\n",
       "      <td>70435</td>\n",
       "    </tr>\n",
       "    <tr>\n",
       "      <th>1</th>\n",
       "      <td>18300</td>\n",
       "      <td>coupe</td>\n",
       "      <td>2011</td>\n",
       "      <td>manual</td>\n",
       "      <td>190</td>\n",
       "      <td>golf</td>\n",
       "      <td>125000</td>\n",
       "      <td>5</td>\n",
       "      <td>gasoline</td>\n",
       "      <td>audi</td>\n",
       "      <td>yes</td>\n",
       "      <td>0</td>\n",
       "      <td>66954</td>\n",
       "    </tr>\n",
       "    <tr>\n",
       "      <th>2</th>\n",
       "      <td>9800</td>\n",
       "      <td>suv</td>\n",
       "      <td>2004</td>\n",
       "      <td>auto</td>\n",
       "      <td>163</td>\n",
       "      <td>grand</td>\n",
       "      <td>125000</td>\n",
       "      <td>8</td>\n",
       "      <td>gasoline</td>\n",
       "      <td>jeep</td>\n",
       "      <td>no</td>\n",
       "      <td>0</td>\n",
       "      <td>90480</td>\n",
       "    </tr>\n",
       "    <tr>\n",
       "      <th>3</th>\n",
       "      <td>1500</td>\n",
       "      <td>small</td>\n",
       "      <td>2001</td>\n",
       "      <td>manual</td>\n",
       "      <td>75</td>\n",
       "      <td>golf</td>\n",
       "      <td>150000</td>\n",
       "      <td>6</td>\n",
       "      <td>petrol</td>\n",
       "      <td>volkswagen</td>\n",
       "      <td>no</td>\n",
       "      <td>0</td>\n",
       "      <td>91074</td>\n",
       "    </tr>\n",
       "    <tr>\n",
       "      <th>4</th>\n",
       "      <td>3600</td>\n",
       "      <td>small</td>\n",
       "      <td>2008</td>\n",
       "      <td>manual</td>\n",
       "      <td>69</td>\n",
       "      <td>fabia</td>\n",
       "      <td>90000</td>\n",
       "      <td>7</td>\n",
       "      <td>gasoline</td>\n",
       "      <td>skoda</td>\n",
       "      <td>no</td>\n",
       "      <td>0</td>\n",
       "      <td>60437</td>\n",
       "    </tr>\n",
       "  </tbody>\n",
       "</table>\n",
       "</div>"
      ],
      "text/plain": [
       "   Price VehicleType  RegistrationYear Gearbox  Power  Model  Mileage  \\\n",
       "0    480       sedan              1993  manual      0   golf   150000   \n",
       "1  18300       coupe              2011  manual    190   golf   125000   \n",
       "2   9800         suv              2004    auto    163  grand   125000   \n",
       "3   1500       small              2001  manual     75   golf   150000   \n",
       "4   3600       small              2008  manual     69  fabia    90000   \n",
       "\n",
       "   RegistrationMonth  FuelType       Brand NotRepaired  NumberOfPictures  \\\n",
       "0                  0    petrol  volkswagen          no                 0   \n",
       "1                  5  gasoline        audi         yes                 0   \n",
       "2                  8  gasoline        jeep          no                 0   \n",
       "3                  6    petrol  volkswagen          no                 0   \n",
       "4                  7  gasoline       skoda          no                 0   \n",
       "\n",
       "   PostalCode  \n",
       "0       70435  \n",
       "1       66954  \n",
       "2       90480  \n",
       "3       91074  \n",
       "4       60437  "
      ]
     },
     "metadata": {},
     "output_type": "display_data"
    }
   ],
   "source": [
    "# Drop columns with date strings \n",
    "df = df.drop(columns=['DateCrawled', 'DateCreated', 'LastSeen'])\n",
    "\n",
    "# First few rows to see non-numeric data\n",
    "display(df.head())"
   ]
  },
  {
   "cell_type": "code",
   "execution_count": 12,
   "metadata": {},
   "outputs": [
    {
     "data": {
      "image/png": "[encoded data removed]",
      "text/plain": [
       "<Figure size 1500x500 with 3 Axes>"
      ]
     },
     "metadata": {},
     "output_type": "display_data"
    }
   ],
   "source": [
    "# Plot distribution for Price, Power, and RegistrationYear to identify outliers\n",
    "plt.figure(figsize=(15, 5))\n",
    "plt.subplot(1, 3, 1)\n",
    "df['Price'].plot(kind='box', title='Price')\n",
    "plt.subplot(1, 3, 2)\n",
    "df['Power'].plot(kind='box', title='Power')\n",
    "plt.subplot(1, 3, 3)\n",
    "df['RegistrationYear'].plot(kind='box', title='Registration Year')\n",
    "plt.tight_layout()\n",
    "plt.show()"
   ]
  },
  {
   "cell_type": "markdown",
   "metadata": {},
   "source": [
    "The boxplot for price will show a high concentration of data points in the lower price ranges, with outliers extending to the right. These could be luxury or highly-priced vehicles but may also indicate errors or rare data points that don’t represent typical pricing.\n",
    "\n",
    "This boxplot for power shows a central clustering around the mean or median with a long tail toward higher values. Cars with an engine power of 0 will show up at the lower whisker or beyond, potentially indicating missing or placeholder values for certain listings.\n",
    "\n",
    "The boxplot for registration year might reveal two types of outliers: low end outliers and high end outliers. The low end could represent unrealistic dates while the high end are either values well into the future or extreme upper outliers. Most data points are likely clustered around the 2000s. "
   ]
  },
  {
   "cell_type": "markdown",
   "metadata": {},
   "source": [
    "## Model training"
   ]
  },
  {
   "cell_type": "code",
   "execution_count": 13,
   "metadata": {},
   "outputs": [],
   "source": [
    "# Select features and target\n",
    "X = df.drop('Price', axis=1)\n",
    "y = df['Price']\n",
    "\n",
    "# Handle categorical features\n",
    "categorical_features = ['VehicleType', 'Gearbox', 'FuelType', 'Brand', 'NotRepaired', 'Model']\n",
    "\n",
    "# One-hot encoding for simpler categorical features\n",
    "X = pd.get_dummies(X, columns=categorical_features, drop_first=True)"
   ]
  },
  {
   "cell_type": "code",
   "execution_count": 14,
   "metadata": {},
   "outputs": [
    {
     "data": {
      "text/plain": [
       "RegistrationYear     int64\n",
       "Power                int64\n",
       "Mileage              int64\n",
       "RegistrationMonth    int64\n",
       "NumberOfPictures     int64\n",
       "                     ...  \n",
       "Model_yaris          uint8\n",
       "Model_yeti           uint8\n",
       "Model_ypsilon        uint8\n",
       "Model_z_reihe        uint8\n",
       "Model_zafira         uint8\n",
       "Length: 309, dtype: object"
      ]
     },
     "metadata": {},
     "output_type": "display_data"
    }
   ],
   "source": [
    "# Fill numeric columns with the median\n",
    "numeric_cols = X.select_dtypes(include=['int64', 'float64']).columns\n",
    "X[numeric_cols] = X[numeric_cols].fillna(X[numeric_cols].median())\n",
    "\n",
    "# Fill categorical columns with the most frequent value\n",
    "categorical_cols = X.select_dtypes(include=['object']).columns\n",
    "X[categorical_cols] = X[categorical_cols].fillna(X[categorical_cols].mode().iloc[0])\n",
    "\n",
    "# Verify no columns with incorrect data\n",
    "display(X.dtypes)\n",
    "\n",
    "# Split the data\n",
    "X_train, X_test, y_train, y_test = train_test_split(X, y, test_size=0.2, random_state=42)"
   ]
  },
  {
   "cell_type": "code",
   "execution_count": 15,
   "metadata": {},
   "outputs": [],
   "source": [
    "# Scale numerical features\n",
    "scaler = StandardScaler()\n",
    "X_train_scaled = X_train.copy()\n",
    "X_test_scaled = X_test.copy()\n",
    "\n",
    "# Apply scaling to numerical columns only\n",
    "numerical_cols = X.select_dtypes(include=['int64', 'float64']).columns\n",
    "X_train_scaled[numerical_cols] = scaler.fit_transform(X_train[numerical_cols])\n",
    "X_test_scaled[numerical_cols] = scaler.transform(X_test[numerical_cols])"
   ]
  },
  {
   "cell_type": "code",
   "execution_count": 16,
   "metadata": {},
   "outputs": [
    {
     "name": "stdout",
     "output_type": "stream",
     "text": [
      "Linear Regression RMSE: 3233.1854066233973\n",
      "Linear Regression Training Time: 11.2091 seconds\n",
      "Linear Regression Prediction Time: 0.1368 seconds\n"
     ]
    }
   ],
   "source": [
    "# Linear Regression\n",
    "start_train = time.time()\n",
    "lin_reg = LinearRegression()\n",
    "lin_reg.fit(X_train, y_train)\n",
    "end_train = time.time()\n",
    "\n",
    "start_predict = time.time()\n",
    "y_pred = lin_reg.predict(X_test)\n",
    "end_predict = time.time()\n",
    "\n",
    "rmse_lin = mean_squared_error(y_test, y_pred, squared=False)\n",
    "print(f'Linear Regression RMSE: {rmse_lin}')\n",
    "print(f'Linear Regression Training Time: {end_train - start_train:.4f} seconds')\n",
    "print(f'Linear Regression Prediction Time: {end_predict - start_predict:.4f} seconds')"
   ]
  },
  {
   "cell_type": "code",
   "execution_count": 17,
   "metadata": {},
   "outputs": [
    {
     "name": "stdout",
     "output_type": "stream",
     "text": [
      "Decision Tree RMSE: 2256.4958439206616\n",
      "Decision Tree Training Time: 6.8457 seconds\n",
      "Decision Tree Prediction Time: 0.0876 seconds\n"
     ]
    }
   ],
   "source": [
    "# Decision Tree Regressor\n",
    "start_train = time.time()\n",
    "tree_reg = DecisionTreeRegressor(random_state=42)\n",
    "tree_reg.fit(X_train, y_train)\n",
    "end_train = time.time()\n",
    "\n",
    "start_predict = time.time()\n",
    "y_pred = tree_reg.predict(X_test)\n",
    "end_predict = time.time()\n",
    "\n",
    "rmse_tree = mean_squared_error(y_test, y_pred, squared=False)\n",
    "print(f'Decision Tree RMSE: {rmse_tree}')\n",
    "print(f'Decision Tree Training Time: {end_train - start_train:.4f} seconds')\n",
    "print(f'Decision Tree Prediction Time: {end_predict - start_predict:.4f} seconds')"
   ]
  },
  {
   "cell_type": "code",
   "execution_count": 18,
   "metadata": {},
   "outputs": [
    {
     "name": "stdout",
     "output_type": "stream",
     "text": [
      "Random Forest RMSE: 1703.0018831429434\n",
      "Random Forest Training Time: 423.0945 seconds\n",
      "Random Forest Prediction Time: 3.3920 seconds\n"
     ]
    }
   ],
   "source": [
    "# Random Forest Regressor\n",
    "start_train = time.time()\n",
    "forest_reg = RandomForestRegressor(random_state=42)\n",
    "forest_reg.fit(X_train, y_train)\n",
    "end_train = time.time()\n",
    "\n",
    "start_predict = time.time()\n",
    "y_pred = forest_reg.predict(X_test)\n",
    "end_predict = time.time()\n",
    "\n",
    "rmse_forest = mean_squared_error(y_test, y_pred, squared=False)\n",
    "print(f'Random Forest RMSE: {rmse_forest}')\n",
    "print(f'Random Forest Training Time: {end_train - start_train:.4f} seconds')\n",
    "print(f'Random Forest Prediction Time: {end_predict - start_predict:.4f} seconds')"
   ]
  },
  {
   "cell_type": "code",
   "execution_count": 19,
   "metadata": {},
   "outputs": [
    {
     "name": "stdout",
     "output_type": "stream",
     "text": [
      "[LightGBM] [Warning] Auto-choosing row-wise multi-threading, the overhead of testing was 0.010219 seconds.\n",
      "You can set `force_row_wise=true` to remove the overhead.\n",
      "And if memory is not enough, you can set `force_col_wise=true`.\n",
      "[LightGBM] [Info] Total Bins 1207\n",
      "[LightGBM] [Info] Number of data points in the train set: 283256, number of used features: 291\n",
      "[LightGBM] [Info] Start training from score 4415.325804\n",
      "LightGBM RMSE: 1939.1921616652849\n"
     ]
    }
   ],
   "source": [
    "# LightGBM \n",
    "\n",
    "# Prepare LightGBM dataset\n",
    "lgb_train = lgb.Dataset(X_train, y_train)\n",
    "lgb_test = lgb.Dataset(X_test, y_test, reference=lgb_train)\n",
    "\n",
    "# Parameters\n",
    "lgb_params = {\n",
    "    'objective': 'regression',\n",
    "    'metric': 'rmse',\n",
    "    'boosting_type': 'gbdt',\n",
    "    'num_leaves': 31,\n",
    "    'learning_rate': 0.05,\n",
    "    'feature_fraction': 0.9\n",
    "}\n",
    "\n",
    "# Train the model\n",
    "lgb_model = lgb.train(lgb_params, lgb_train, num_boost_round=100)\n",
    "y_pred_lgb = lgb_model.predict(X_test, num_iteration=lgb_model.best_iteration)\n",
    "rmse_lgb = mean_squared_error(y_test, y_pred_lgb, squared=False)\n",
    "print(f'LightGBM RMSE: {rmse_lgb}')"
   ]
  },
  {
   "cell_type": "code",
   "execution_count": 20,
   "metadata": {
    "scrolled": true
   },
   "outputs": [
    {
     "name": "stdout",
     "output_type": "stream",
     "text": [
      "CatBoost RMSE: 1767.7136955400765\n"
     ]
    }
   ],
   "source": [
    "# CatBoost\n",
    "\n",
    "cat_model = CatBoostRegressor(iterations=1000, learning_rate=0.1, depth=6, verbose=0)\n",
    "cat_model.fit(X_train, y_train)\n",
    "y_pred_cat = cat_model.predict(X_test)\n",
    "rmse_cat = mean_squared_error(y_test, y_pred_cat, squared=False)\n",
    "print(f'CatBoost RMSE: {rmse_cat}')"
   ]
  },
  {
   "cell_type": "code",
   "execution_count": null,
   "metadata": {},
   "outputs": [],
   "source": [
    "# XGBoost\n",
    "\n",
    "xgb_model = xgb.XGBRegressor(objective='reg:squarederror', n_estimators=100)\n",
    "xgb_model.fit(X_train, y_train)\n",
    "y_pred_xgb = xgb_model.predict(X_test)\n",
    "rmse_xgb = mean_squared_error(y_test, y_pred_xgb, squared=False)\n",
    "print(f'XGBoost RMSE: {rmse_xgb}')"
   ]
  },
  {
   "cell_type": "markdown",
   "metadata": {},
   "source": [
    "## Model analysis"
   ]
  },
  {
   "cell_type": "code",
   "execution_count": null,
   "metadata": {},
   "outputs": [],
   "source": [
    "# Hyperparameter tuning and measuring time for LightGBM \n",
    "param_grid = {\n",
    "    'num_leaves': [31, 50],\n",
    "    'learning_rate': [0.1, 0.01],\n",
    "    'n_estimators': [100, 200]\n",
    "}\n",
    "\n",
    "# Run GridSearchCV to find the best model\n",
    "grid_search = GridSearchCV(LGBMRegressor(random_state=42), param_grid, scoring='neg_root_mean_squared_error', cv=3)\n",
    "grid_search.fit(X_train, y_train)\n",
    "\n",
    "# Retrieve the best estimator and retrain it to measure time\n",
    "best_lgb = grid_search.best_estimator_\n",
    "\n",
    "start_train = time.time()\n",
    "best_lgb.fit(X_train, y_train)  # Retrain on the full training data\n",
    "end_train = time.time()\n",
    "\n",
    "start_predict = time.time()\n",
    "y_pred = best_lgb.predict(X_test)\n",
    "end_predict = time.time()\n",
    "\n",
    "rmse_lgb = mean_squared_error(y_test, y_pred, squared=False)\n",
    "print(f'LightGBM RMSE: {rmse_lgb}')\n",
    "print(f'LightGBM Training Time: {end_train - start_train:.4f} seconds')\n",
    "print(f'LightGBM Prediction Time: {end_predict - start_predict:.4f} seconds')"
   ]
  },
  {
   "cell_type": "markdown",
   "metadata": {},
   "source": [
    "# Conclusion"
   ]
  },
  {
   "cell_type": "markdown",
   "metadata": {},
   "source": [
    "This project aimed to build and compare various regression models to predict car prices using a dataset containing vehicle characteristics. The primary goal was to evaluate the performance of different models, including linear regression, decision tree, random forest, LightGBM, CatBoost, and XGBoost, using the RMSE metric, as well as to assess their computational efficiency in terms of training and prediction time.\n",
    "\n",
    "Linear regression served as a baseline model and, as expected, had one of the higher RMSE scores, indicating that a simple linear approach was insufficient for capturing the complex relationships in the data. Tree-based models, such as decision tree and random forest, showed significant improvements over linear regression, with random forest performing better due to its ensemble nature.\n",
    "\n",
    "We measured training and prediction times for each model. LightGBM and CatBoost, the gradient boosting models, outperformed both linear regression and individual tree models in terms of RMSE while also offering efficient training times after hyperparameter tuning. These findings align with expectations, as gradient boosting methods are often well-suited to structured data like this and benefit from specialized optimizations within libraries like LightGBM and CatBoost.\n",
    "\n",
    "In conclusion, this project demonstrated that ensemble methods, particularly gradient boosting models like LightGBM and CatBoost, can effectively capture the complexities of structured datasets such as car listings. LightGBM, especially, balanced accuracy with computational efficiency, making it a strong choice for future predictive modeling tasks."
   ]
  },
  {
   "cell_type": "markdown",
   "metadata": {},
   "source": [
    "# Checklist"
   ]
  },
  {
   "cell_type": "markdown",
   "metadata": {},
   "source": [
    "Type 'x' to check. Then press Shift+Enter."
   ]
  },
  {
   "cell_type": "markdown",
   "metadata": {},
   "source": [
    "- [x]  Jupyter Notebook is open\n",
    "- [ ]  Code is error free\n",
    "- [ ]  The cells with the code have been arranged in order of execution\n",
    "- [ ]  The data has been downloaded and prepared\n",
    "- [ ]  The models have been trained\n",
    "- [ ]  The analysis of speed and quality of the models has been performed"
   ]
  }
 ],
 "metadata": {
  "ExecuteTimeLog": [
   {
    "duration": 156,
    "start_time": "2024-10-25T20:36:22.418Z"
   },
   {
    "duration": 312,
    "start_time": "2024-10-25T20:36:27.378Z"
   },
   {
    "duration": 474,
    "start_time": "2024-10-25T20:36:27.692Z"
   },
   {
    "duration": 13,
    "start_time": "2024-10-25T20:36:36.627Z"
   },
   {
    "duration": 268,
    "start_time": "2024-10-25T20:36:56.514Z"
   },
   {
    "duration": 393,
    "start_time": "2024-10-25T20:36:56.784Z"
   },
   {
    "duration": 273,
    "start_time": "2024-10-25T20:42:27.804Z"
   },
   {
    "duration": 409,
    "start_time": "2024-10-25T20:42:28.079Z"
   },
   {
    "duration": 18,
    "start_time": "2024-10-25T20:42:48.174Z"
   },
   {
    "duration": 10,
    "start_time": "2024-10-25T20:43:00.938Z"
   },
   {
    "duration": 88,
    "start_time": "2024-10-25T20:43:18.717Z"
   },
   {
    "duration": 226,
    "start_time": "2024-10-25T20:43:58.073Z"
   },
   {
    "duration": 96,
    "start_time": "2024-10-25T20:44:11.504Z"
   },
   {
    "duration": 18,
    "start_time": "2024-10-25T20:44:42.802Z"
   },
   {
    "duration": 477,
    "start_time": "2024-10-25T20:45:00.845Z"
   },
   {
    "duration": 3,
    "start_time": "2024-10-25T20:45:50.906Z"
   },
   {
    "duration": 288,
    "start_time": "2024-10-25T20:45:54.785Z"
   },
   {
    "duration": 393,
    "start_time": "2024-10-25T20:45:55.076Z"
   },
   {
    "duration": 14,
    "start_time": "2024-10-25T20:45:55.470Z"
   },
   {
    "duration": 10,
    "start_time": "2024-10-25T20:45:55.486Z"
   },
   {
    "duration": 106,
    "start_time": "2024-10-25T20:45:55.499Z"
   },
   {
    "duration": 235,
    "start_time": "2024-10-25T20:45:55.607Z"
   },
   {
    "duration": 96,
    "start_time": "2024-10-25T20:45:55.844Z"
   },
   {
    "duration": 100,
    "start_time": "2024-10-25T20:46:44.285Z"
   },
   {
    "duration": 86,
    "start_time": "2024-10-25T20:47:02.734Z"
   },
   {
    "duration": 311,
    "start_time": "2024-10-25T20:50:07.673Z"
   },
   {
    "duration": 420,
    "start_time": "2024-10-25T20:50:07.986Z"
   },
   {
    "duration": 102,
    "start_time": "2024-10-25T20:50:08.407Z"
   },
   {
    "duration": 21,
    "start_time": "2024-10-25T20:50:08.511Z"
   },
   {
    "duration": 10,
    "start_time": "2024-10-25T20:50:08.534Z"
   },
   {
    "duration": 102,
    "start_time": "2024-10-25T20:50:08.546Z"
   },
   {
    "duration": 96,
    "start_time": "2024-10-25T20:50:08.650Z"
   },
   {
    "duration": 242,
    "start_time": "2024-10-25T20:50:08.748Z"
   },
   {
    "duration": 309,
    "start_time": "2024-10-25T20:50:08.992Z"
   },
   {
    "duration": 187,
    "start_time": "2024-10-25T20:51:06.805Z"
   },
   {
    "duration": 484,
    "start_time": "2024-10-25T20:51:29.971Z"
   },
   {
    "duration": 321,
    "start_time": "2024-10-25T20:52:14.878Z"
   },
   {
    "duration": 405,
    "start_time": "2024-10-25T20:52:15.201Z"
   },
   {
    "duration": 117,
    "start_time": "2024-10-25T20:52:15.607Z"
   },
   {
    "duration": 24,
    "start_time": "2024-10-25T20:52:15.726Z"
   },
   {
    "duration": 19,
    "start_time": "2024-10-25T20:52:15.753Z"
   },
   {
    "duration": 97,
    "start_time": "2024-10-25T20:52:15.774Z"
   },
   {
    "duration": 214,
    "start_time": "2024-10-25T20:52:15.872Z"
   },
   {
    "duration": 240,
    "start_time": "2024-10-25T20:52:16.088Z"
   },
   {
    "duration": 602,
    "start_time": "2024-10-25T20:52:16.330Z"
   },
   {
    "duration": 162,
    "start_time": "2024-10-28T20:37:55.509Z"
   },
   {
    "duration": 331,
    "start_time": "2024-10-28T20:38:05.241Z"
   },
   {
    "duration": 474,
    "start_time": "2024-10-28T20:38:05.574Z"
   },
   {
    "duration": 101,
    "start_time": "2024-10-28T20:38:06.049Z"
   },
   {
    "duration": 64,
    "start_time": "2024-10-28T20:38:06.151Z"
   },
   {
    "duration": 11,
    "start_time": "2024-10-28T20:38:06.231Z"
   },
   {
    "duration": 13,
    "start_time": "2024-10-28T20:38:06.243Z"
   },
   {
    "duration": 100,
    "start_time": "2024-10-28T20:38:06.257Z"
   },
   {
    "duration": 179,
    "start_time": "2024-10-28T20:38:06.359Z"
   },
   {
    "duration": 223,
    "start_time": "2024-10-28T20:38:06.540Z"
   },
   {
    "duration": 512,
    "start_time": "2024-10-28T20:38:06.765Z"
   },
   {
    "duration": 3,
    "start_time": "2024-10-28T20:54:17.457Z"
   },
   {
    "duration": 303,
    "start_time": "2024-10-28T20:55:57.199Z"
   },
   {
    "duration": 427,
    "start_time": "2024-10-28T20:55:57.505Z"
   },
   {
    "duration": 102,
    "start_time": "2024-10-28T20:55:57.933Z"
   },
   {
    "duration": 67,
    "start_time": "2024-10-28T20:55:58.038Z"
   },
   {
    "duration": 24,
    "start_time": "2024-10-28T20:55:58.108Z"
   },
   {
    "duration": 13,
    "start_time": "2024-10-28T20:55:58.136Z"
   },
   {
    "duration": 103,
    "start_time": "2024-10-28T20:55:58.151Z"
   },
   {
    "duration": 185,
    "start_time": "2024-10-28T20:55:58.256Z"
   },
   {
    "duration": 229,
    "start_time": "2024-10-28T20:55:58.442Z"
   },
   {
    "duration": 518,
    "start_time": "2024-10-28T20:55:58.672Z"
   },
   {
    "duration": 16,
    "start_time": "2024-10-28T20:55:59.192Z"
   },
   {
    "duration": 63,
    "start_time": "2024-10-28T20:55:59.210Z"
   },
   {
    "duration": 23,
    "start_time": "2024-10-28T20:55:59.275Z"
   },
   {
    "duration": 345,
    "start_time": "2024-10-28T20:55:59.301Z"
   },
   {
    "duration": 71,
    "start_time": "2024-10-28T20:55:59.648Z"
   },
   {
    "duration": 68,
    "start_time": "2024-10-28T21:01:59.907Z"
   },
   {
    "duration": 316,
    "start_time": "2024-10-28T21:02:07.682Z"
   },
   {
    "duration": 423,
    "start_time": "2024-10-28T21:02:08.000Z"
   },
   {
    "duration": 90,
    "start_time": "2024-10-28T21:02:08.424Z"
   },
   {
    "duration": 75,
    "start_time": "2024-10-28T21:02:08.516Z"
   },
   {
    "duration": 11,
    "start_time": "2024-10-28T21:02:08.593Z"
   },
   {
    "duration": 31,
    "start_time": "2024-10-28T21:02:08.606Z"
   },
   {
    "duration": 94,
    "start_time": "2024-10-28T21:02:08.640Z"
   },
   {
    "duration": 179,
    "start_time": "2024-10-28T21:02:08.735Z"
   },
   {
    "duration": 221,
    "start_time": "2024-10-28T21:02:08.916Z"
   },
   {
    "duration": 515,
    "start_time": "2024-10-28T21:02:09.139Z"
   },
   {
    "duration": 14,
    "start_time": "2024-10-28T21:02:09.656Z"
   },
   {
    "duration": 73,
    "start_time": "2024-10-28T21:02:09.672Z"
   },
   {
    "duration": 22,
    "start_time": "2024-10-28T21:02:09.746Z"
   },
   {
    "duration": 322,
    "start_time": "2024-10-28T21:02:09.771Z"
   },
   {
    "duration": 76,
    "start_time": "2024-10-28T21:02:10.096Z"
   },
   {
    "duration": 570,
    "start_time": "2024-10-28T21:04:29.666Z"
   },
   {
    "duration": 821,
    "start_time": "2024-10-28T21:05:41.405Z"
   },
   {
    "duration": 405,
    "start_time": "2024-10-28T21:05:42.231Z"
   },
   {
    "duration": 101,
    "start_time": "2024-10-28T21:05:42.638Z"
   },
   {
    "duration": 59,
    "start_time": "2024-10-28T21:05:42.741Z"
   },
   {
    "duration": 11,
    "start_time": "2024-10-28T21:05:42.802Z"
   },
   {
    "duration": 29,
    "start_time": "2024-10-28T21:05:42.815Z"
   },
   {
    "duration": 104,
    "start_time": "2024-10-28T21:05:42.847Z"
   },
   {
    "duration": 186,
    "start_time": "2024-10-28T21:05:42.952Z"
   },
   {
    "duration": 259,
    "start_time": "2024-10-28T21:05:43.139Z"
   },
   {
    "duration": 537,
    "start_time": "2024-10-28T21:05:43.400Z"
   },
   {
    "duration": 21,
    "start_time": "2024-10-28T21:05:43.939Z"
   },
   {
    "duration": 51,
    "start_time": "2024-10-28T21:05:43.962Z"
   },
   {
    "duration": 33,
    "start_time": "2024-10-28T21:05:44.015Z"
   },
   {
    "duration": 331,
    "start_time": "2024-10-28T21:05:44.051Z"
   },
   {
    "duration": 70,
    "start_time": "2024-10-28T21:05:44.384Z"
   },
   {
    "duration": 678,
    "start_time": "2024-10-28T21:05:44.457Z"
   },
   {
    "duration": 12041,
    "start_time": "2024-10-28T21:05:45.137Z"
   },
   {
    "duration": 832,
    "start_time": "2024-10-28T21:06:29.892Z"
   },
   {
    "duration": 427,
    "start_time": "2024-10-28T21:06:30.726Z"
   },
   {
    "duration": 103,
    "start_time": "2024-10-28T21:06:31.155Z"
   },
   {
    "duration": 73,
    "start_time": "2024-10-28T21:06:31.260Z"
   },
   {
    "duration": 15,
    "start_time": "2024-10-28T21:06:31.336Z"
   },
   {
    "duration": 11,
    "start_time": "2024-10-28T21:06:31.353Z"
   },
   {
    "duration": 111,
    "start_time": "2024-10-28T21:06:31.366Z"
   },
   {
    "duration": 183,
    "start_time": "2024-10-28T21:06:31.478Z"
   },
   {
    "duration": 228,
    "start_time": "2024-10-28T21:06:31.663Z"
   },
   {
    "duration": 516,
    "start_time": "2024-10-28T21:06:31.893Z"
   },
   {
    "duration": 33,
    "start_time": "2024-10-28T21:06:32.411Z"
   },
   {
    "duration": 52,
    "start_time": "2024-10-28T21:06:32.447Z"
   },
   {
    "duration": 31,
    "start_time": "2024-10-28T21:06:32.501Z"
   },
   {
    "duration": 312,
    "start_time": "2024-10-28T21:06:32.536Z"
   },
   {
    "duration": 68,
    "start_time": "2024-10-28T21:06:32.850Z"
   },
   {
    "duration": 663,
    "start_time": "2024-10-28T21:06:32.931Z"
   },
   {
    "duration": 12234,
    "start_time": "2024-10-28T21:06:33.596Z"
   },
   {
    "duration": 852,
    "start_time": "2024-10-28T21:58:34.818Z"
   },
   {
    "duration": 447,
    "start_time": "2024-10-28T21:58:35.672Z"
   },
   {
    "duration": 99,
    "start_time": "2024-10-28T21:58:36.121Z"
   },
   {
    "duration": 67,
    "start_time": "2024-10-28T21:58:36.222Z"
   },
   {
    "duration": 15,
    "start_time": "2024-10-28T21:58:36.305Z"
   },
   {
    "duration": 12,
    "start_time": "2024-10-28T21:58:36.322Z"
   },
   {
    "duration": 98,
    "start_time": "2024-10-28T21:58:36.336Z"
   },
   {
    "duration": 205,
    "start_time": "2024-10-28T21:58:36.435Z"
   },
   {
    "duration": 222,
    "start_time": "2024-10-28T21:58:36.641Z"
   },
   {
    "duration": 483,
    "start_time": "2024-10-28T21:58:36.865Z"
   },
   {
    "duration": 28,
    "start_time": "2024-10-28T21:58:37.350Z"
   },
   {
    "duration": 65,
    "start_time": "2024-10-28T21:58:37.380Z"
   },
   {
    "duration": 18,
    "start_time": "2024-10-28T21:58:37.447Z"
   },
   {
    "duration": 302,
    "start_time": "2024-10-28T21:58:37.469Z"
   },
   {
    "duration": 75,
    "start_time": "2024-10-28T21:58:37.773Z"
   },
   {
    "duration": 671,
    "start_time": "2024-10-28T21:58:37.851Z"
   },
   {
    "duration": 11218,
    "start_time": "2024-10-28T21:58:38.524Z"
   },
   {
    "duration": 835,
    "start_time": "2024-10-28T21:59:30.807Z"
   },
   {
    "duration": 410,
    "start_time": "2024-10-28T21:59:31.644Z"
   },
   {
    "duration": 99,
    "start_time": "2024-10-28T21:59:32.055Z"
   },
   {
    "duration": 69,
    "start_time": "2024-10-28T21:59:32.156Z"
   },
   {
    "duration": 12,
    "start_time": "2024-10-28T21:59:32.227Z"
   },
   {
    "duration": 10,
    "start_time": "2024-10-28T21:59:32.241Z"
   },
   {
    "duration": 109,
    "start_time": "2024-10-28T21:59:32.252Z"
   },
   {
    "duration": 200,
    "start_time": "2024-10-28T21:59:32.363Z"
   },
   {
    "duration": 235,
    "start_time": "2024-10-28T21:59:32.565Z"
   },
   {
    "duration": 492,
    "start_time": "2024-10-28T21:59:32.801Z"
   },
   {
    "duration": 27,
    "start_time": "2024-10-28T21:59:33.295Z"
   },
   {
    "duration": 50,
    "start_time": "2024-10-28T21:59:33.324Z"
   },
   {
    "duration": 36,
    "start_time": "2024-10-28T21:59:33.376Z"
   },
   {
    "duration": 302,
    "start_time": "2024-10-28T21:59:33.415Z"
   },
   {
    "duration": 66,
    "start_time": "2024-10-28T21:59:33.719Z"
   },
   {
    "duration": 678,
    "start_time": "2024-10-28T21:59:33.787Z"
   },
   {
    "duration": 11090,
    "start_time": "2024-10-28T21:59:34.467Z"
   },
   {
    "duration": 793,
    "start_time": "2024-10-28T22:34:27.982Z"
   },
   {
    "duration": 395,
    "start_time": "2024-10-28T22:34:28.777Z"
   },
   {
    "duration": 98,
    "start_time": "2024-10-28T22:34:29.174Z"
   },
   {
    "duration": 66,
    "start_time": "2024-10-28T22:34:29.274Z"
   },
   {
    "duration": 11,
    "start_time": "2024-10-28T22:34:29.343Z"
   },
   {
    "duration": 10,
    "start_time": "2024-10-28T22:34:29.356Z"
   },
   {
    "duration": 103,
    "start_time": "2024-10-28T22:34:29.367Z"
   },
   {
    "duration": 182,
    "start_time": "2024-10-28T22:34:29.472Z"
   },
   {
    "duration": 228,
    "start_time": "2024-10-28T22:34:29.655Z"
   },
   {
    "duration": 492,
    "start_time": "2024-10-28T22:34:29.885Z"
   },
   {
    "duration": 15,
    "start_time": "2024-10-28T22:34:30.379Z"
   },
   {
    "duration": 51,
    "start_time": "2024-10-28T22:34:30.406Z"
   },
   {
    "duration": 22,
    "start_time": "2024-10-28T22:34:30.460Z"
   },
   {
    "duration": 314,
    "start_time": "2024-10-28T22:34:30.485Z"
   },
   {
    "duration": 73,
    "start_time": "2024-10-28T22:34:30.801Z"
   },
   {
    "duration": 687,
    "start_time": "2024-10-28T22:34:30.875Z"
   },
   {
    "duration": 11096,
    "start_time": "2024-10-28T22:34:31.563Z"
   },
   {
    "duration": 827,
    "start_time": "2024-10-28T22:36:00.545Z"
   },
   {
    "duration": 406,
    "start_time": "2024-10-28T22:36:01.374Z"
   },
   {
    "duration": 99,
    "start_time": "2024-10-28T22:36:01.782Z"
   },
   {
    "duration": 77,
    "start_time": "2024-10-28T22:36:01.883Z"
   },
   {
    "duration": 12,
    "start_time": "2024-10-28T22:36:01.962Z"
   },
   {
    "duration": 11,
    "start_time": "2024-10-28T22:36:01.975Z"
   },
   {
    "duration": 100,
    "start_time": "2024-10-28T22:36:01.987Z"
   },
   {
    "duration": 182,
    "start_time": "2024-10-28T22:36:02.088Z"
   },
   {
    "duration": 229,
    "start_time": "2024-10-28T22:36:02.272Z"
   },
   {
    "duration": 521,
    "start_time": "2024-10-28T22:36:02.505Z"
   },
   {
    "duration": 21,
    "start_time": "2024-10-28T22:36:03.029Z"
   },
   {
    "duration": 65,
    "start_time": "2024-10-28T22:36:03.052Z"
   },
   {
    "duration": 19,
    "start_time": "2024-10-28T22:36:03.119Z"
   },
   {
    "duration": 308,
    "start_time": "2024-10-28T22:36:03.141Z"
   },
   {
    "duration": 75,
    "start_time": "2024-10-28T22:36:03.450Z"
   },
   {
    "duration": 701,
    "start_time": "2024-10-28T22:36:03.527Z"
   },
   {
    "duration": 11017,
    "start_time": "2024-10-28T22:36:04.229Z"
   },
   {
    "duration": 843,
    "start_time": "2024-10-29T01:09:02.143Z"
   },
   {
    "duration": 464,
    "start_time": "2024-10-29T01:09:02.988Z"
   },
   {
    "duration": 104,
    "start_time": "2024-10-29T01:09:03.454Z"
   },
   {
    "duration": 66,
    "start_time": "2024-10-29T01:09:03.560Z"
   },
   {
    "duration": 10,
    "start_time": "2024-10-29T01:09:03.629Z"
   },
   {
    "duration": 10,
    "start_time": "2024-10-29T01:09:03.641Z"
   },
   {
    "duration": 107,
    "start_time": "2024-10-29T01:09:03.653Z"
   },
   {
    "duration": 180,
    "start_time": "2024-10-29T01:09:03.762Z"
   },
   {
    "duration": 219,
    "start_time": "2024-10-29T01:09:03.944Z"
   },
   {
    "duration": 491,
    "start_time": "2024-10-29T01:09:04.165Z"
   },
   {
    "duration": 22,
    "start_time": "2024-10-29T01:09:04.657Z"
   },
   {
    "duration": 73,
    "start_time": "2024-10-29T01:09:04.681Z"
   },
   {
    "duration": 19,
    "start_time": "2024-10-29T01:09:04.755Z"
   },
   {
    "duration": 322,
    "start_time": "2024-10-29T01:09:04.777Z"
   },
   {
    "duration": 70,
    "start_time": "2024-10-29T01:09:05.100Z"
   },
   {
    "duration": 668,
    "start_time": "2024-10-29T01:09:05.172Z"
   },
   {
    "duration": 11304,
    "start_time": "2024-10-29T01:09:05.842Z"
   },
   {
    "duration": 161,
    "start_time": "2024-11-02T20:03:33.820Z"
   },
   {
    "duration": 869,
    "start_time": "2024-11-02T20:03:38.417Z"
   },
   {
    "duration": 468,
    "start_time": "2024-11-02T20:03:39.288Z"
   },
   {
    "duration": 102,
    "start_time": "2024-11-02T20:03:39.758Z"
   },
   {
    "duration": 92,
    "start_time": "2024-11-02T20:03:39.862Z"
   },
   {
    "duration": 12,
    "start_time": "2024-11-02T20:03:39.956Z"
   },
   {
    "duration": 10,
    "start_time": "2024-11-02T20:03:39.970Z"
   },
   {
    "duration": 110,
    "start_time": "2024-11-02T20:03:39.982Z"
   },
   {
    "duration": 2239,
    "start_time": "2024-11-02T20:05:05.105Z"
   },
   {
    "duration": 427,
    "start_time": "2024-11-02T20:05:07.346Z"
   },
   {
    "duration": 104,
    "start_time": "2024-11-02T20:05:07.775Z"
   },
   {
    "duration": 71,
    "start_time": "2024-11-02T20:05:07.880Z"
   },
   {
    "duration": 10,
    "start_time": "2024-11-02T20:05:07.954Z"
   },
   {
    "duration": 10,
    "start_time": "2024-11-02T20:05:07.966Z"
   },
   {
    "duration": 111,
    "start_time": "2024-11-02T20:05:07.978Z"
   },
   {
    "duration": 436,
    "start_time": "2024-11-02T20:05:21.310Z"
   },
   {
    "duration": 434,
    "start_time": "2024-11-02T20:05:21.748Z"
   },
   {
    "duration": 105,
    "start_time": "2024-11-02T20:05:22.184Z"
   },
   {
    "duration": 70,
    "start_time": "2024-11-02T20:05:22.291Z"
   },
   {
    "duration": 10,
    "start_time": "2024-11-02T20:05:22.364Z"
   },
   {
    "duration": 27,
    "start_time": "2024-11-02T20:05:22.376Z"
   },
   {
    "duration": 99,
    "start_time": "2024-11-02T20:05:22.404Z"
   },
   {
    "duration": 36253,
    "start_time": "2024-11-02T20:05:22.505Z"
   },
   {
    "duration": 426,
    "start_time": "2024-11-02T20:05:58.760Z"
   },
   {
    "duration": 28,
    "start_time": "2024-11-02T20:05:59.189Z"
   },
   {
    "duration": 980,
    "start_time": "2024-11-02T20:08:03.996Z"
   },
   {
    "duration": 402,
    "start_time": "2024-11-02T20:08:04.978Z"
   },
   {
    "duration": 92,
    "start_time": "2024-11-02T20:08:05.382Z"
   },
   {
    "duration": 70,
    "start_time": "2024-11-02T20:08:05.475Z"
   },
   {
    "duration": 10,
    "start_time": "2024-11-02T20:08:05.548Z"
   },
   {
    "duration": 11,
    "start_time": "2024-11-02T20:08:05.559Z"
   },
   {
    "duration": 108,
    "start_time": "2024-11-02T20:08:05.571Z"
   },
   {
    "duration": 35419,
    "start_time": "2024-11-02T20:08:05.681Z"
   },
   {
    "duration": 443,
    "start_time": "2024-11-02T20:08:41.102Z"
   },
   {
    "duration": 23,
    "start_time": "2024-11-02T20:08:41.547Z"
   },
   {
    "duration": 114,
    "start_time": "2024-11-02T20:08:41.574Z"
   },
   {
    "duration": 2150,
    "start_time": "2024-11-02T20:08:41.690Z"
   },
   {
    "duration": 43206,
    "start_time": "2024-11-02T20:08:50.985Z"
   },
   {
    "duration": 0,
    "start_time": "2024-11-02T20:09:34.193Z"
   },
   {
    "duration": 414,
    "start_time": "2024-11-02T20:10:02.851Z"
   },
   {
    "duration": 969,
    "start_time": "2024-11-02T20:11:20.341Z"
   },
   {
    "duration": 403,
    "start_time": "2024-11-02T20:11:21.312Z"
   },
   {
    "duration": 98,
    "start_time": "2024-11-02T20:11:21.716Z"
   },
   {
    "duration": 58,
    "start_time": "2024-11-02T20:11:21.816Z"
   },
   {
    "duration": 10,
    "start_time": "2024-11-02T20:11:21.876Z"
   },
   {
    "duration": 11,
    "start_time": "2024-11-02T20:11:21.908Z"
   },
   {
    "duration": 97,
    "start_time": "2024-11-02T20:11:21.921Z"
   },
   {
    "duration": 35254,
    "start_time": "2024-11-02T20:11:22.019Z"
   },
   {
    "duration": 434,
    "start_time": "2024-11-02T20:11:57.275Z"
   },
   {
    "duration": 21,
    "start_time": "2024-11-02T20:11:57.711Z"
   },
   {
    "duration": 245,
    "start_time": "2024-11-02T20:11:57.734Z"
   },
   {
    "duration": 0,
    "start_time": "2024-11-02T20:11:57.981Z"
   },
   {
    "duration": 0,
    "start_time": "2024-11-02T20:11:57.982Z"
   },
   {
    "duration": 1022,
    "start_time": "2024-11-02T20:12:34.739Z"
   },
   {
    "duration": 393,
    "start_time": "2024-11-02T20:12:35.763Z"
   },
   {
    "duration": 98,
    "start_time": "2024-11-02T20:12:36.157Z"
   },
   {
    "duration": 69,
    "start_time": "2024-11-02T20:12:36.257Z"
   },
   {
    "duration": 10,
    "start_time": "2024-11-02T20:12:36.329Z"
   },
   {
    "duration": 10,
    "start_time": "2024-11-02T20:12:36.342Z"
   },
   {
    "duration": 115,
    "start_time": "2024-11-02T20:12:36.354Z"
   },
   {
    "duration": 35629,
    "start_time": "2024-11-02T20:12:36.471Z"
   },
   {
    "duration": 455,
    "start_time": "2024-11-02T20:13:12.102Z"
   },
   {
    "duration": 22,
    "start_time": "2024-11-02T20:13:12.558Z"
   },
   {
    "duration": 105,
    "start_time": "2024-11-02T20:13:12.581Z"
   },
   {
    "duration": 645,
    "start_time": "2024-11-02T20:13:12.688Z"
   },
   {
    "duration": 0,
    "start_time": "2024-11-02T20:13:13.334Z"
   },
   {
    "duration": 985,
    "start_time": "2024-11-02T20:16:11.976Z"
   },
   {
    "duration": 406,
    "start_time": "2024-11-02T20:16:12.963Z"
   },
   {
    "duration": 92,
    "start_time": "2024-11-02T20:16:13.371Z"
   },
   {
    "duration": 70,
    "start_time": "2024-11-02T20:16:13.465Z"
   },
   {
    "duration": 10,
    "start_time": "2024-11-02T20:16:13.537Z"
   },
   {
    "duration": 10,
    "start_time": "2024-11-02T20:16:13.549Z"
   },
   {
    "duration": 106,
    "start_time": "2024-11-02T20:16:13.561Z"
   },
   {
    "duration": 35514,
    "start_time": "2024-11-02T20:16:13.669Z"
   },
   {
    "duration": 406,
    "start_time": "2024-11-02T20:16:49.185Z"
   },
   {
    "duration": 28,
    "start_time": "2024-11-02T20:16:49.595Z"
   },
   {
    "duration": 103,
    "start_time": "2024-11-02T20:16:49.625Z"
   },
   {
    "duration": 103,
    "start_time": "2024-11-02T20:16:49.730Z"
   },
   {
    "duration": 258,
    "start_time": "2024-11-02T20:16:49.835Z"
   },
   {
    "duration": 114,
    "start_time": "2024-11-02T20:19:28.961Z"
   },
   {
    "duration": 209,
    "start_time": "2024-11-02T20:20:27.266Z"
   },
   {
    "duration": 982,
    "start_time": "2024-11-02T20:20:46.167Z"
   },
   {
    "duration": 441,
    "start_time": "2024-11-02T20:20:47.151Z"
   },
   {
    "duration": 98,
    "start_time": "2024-11-02T20:20:47.594Z"
   },
   {
    "duration": 68,
    "start_time": "2024-11-02T20:20:47.694Z"
   },
   {
    "duration": 11,
    "start_time": "2024-11-02T20:20:47.765Z"
   },
   {
    "duration": 32,
    "start_time": "2024-11-02T20:20:47.778Z"
   },
   {
    "duration": 98,
    "start_time": "2024-11-02T20:20:47.811Z"
   },
   {
    "duration": 115,
    "start_time": "2024-11-02T20:20:47.910Z"
   },
   {
    "duration": 220,
    "start_time": "2024-11-02T20:20:48.027Z"
   },
   {
    "duration": 237,
    "start_time": "2024-11-02T20:20:48.250Z"
   },
   {
    "duration": 35210,
    "start_time": "2024-11-02T20:20:48.488Z"
   },
   {
    "duration": 445,
    "start_time": "2024-11-02T20:21:23.700Z"
   },
   {
    "duration": 22,
    "start_time": "2024-11-02T20:21:24.147Z"
   },
   {
    "duration": 956,
    "start_time": "2024-11-02T20:23:16.200Z"
   },
   {
    "duration": 428,
    "start_time": "2024-11-02T20:23:17.158Z"
   },
   {
    "duration": 100,
    "start_time": "2024-11-02T20:23:17.588Z"
   },
   {
    "duration": 72,
    "start_time": "2024-11-02T20:23:17.690Z"
   },
   {
    "duration": 11,
    "start_time": "2024-11-02T20:23:17.764Z"
   },
   {
    "duration": 12,
    "start_time": "2024-11-02T20:23:17.777Z"
   },
   {
    "duration": 107,
    "start_time": "2024-11-02T20:23:17.791Z"
   },
   {
    "duration": 118,
    "start_time": "2024-11-02T20:23:17.908Z"
   },
   {
    "duration": 218,
    "start_time": "2024-11-02T20:23:18.028Z"
   },
   {
    "duration": 237,
    "start_time": "2024-11-02T20:23:18.248Z"
   },
   {
    "duration": 34738,
    "start_time": "2024-11-02T20:23:18.487Z"
   },
   {
    "duration": 454,
    "start_time": "2024-11-02T20:23:53.227Z"
   },
   {
    "duration": 26,
    "start_time": "2024-11-02T20:23:53.683Z"
   },
   {
    "duration": 99,
    "start_time": "2024-11-02T20:23:58.614Z"
   },
   {
    "duration": 99,
    "start_time": "2024-11-02T20:24:22.919Z"
   },
   {
    "duration": 2116,
    "start_time": "2024-11-02T20:24:41.816Z"
   },
   {
    "duration": 1979,
    "start_time": "2024-11-02T20:26:11.542Z"
   },
   {
    "duration": 3,
    "start_time": "2024-11-02T20:27:29.811Z"
   },
   {
    "duration": 90,
    "start_time": "2024-11-02T20:27:57.022Z"
   },
   {
    "duration": 3,
    "start_time": "2024-11-02T20:27:58.398Z"
   },
   {
    "duration": 431,
    "start_time": "2024-11-02T20:28:08.548Z"
   },
   {
    "duration": 93,
    "start_time": "2024-11-02T20:28:11.060Z"
   },
   {
    "duration": 3,
    "start_time": "2024-11-02T20:28:12.006Z"
   },
   {
    "duration": 3,
    "start_time": "2024-11-02T20:30:59.637Z"
   },
   {
    "duration": 969,
    "start_time": "2024-11-02T20:32:05.391Z"
   },
   {
    "duration": 423,
    "start_time": "2024-11-02T20:32:06.362Z"
   },
   {
    "duration": 93,
    "start_time": "2024-11-02T20:32:06.787Z"
   },
   {
    "duration": 98,
    "start_time": "2024-11-02T20:32:06.883Z"
   },
   {
    "duration": 10,
    "start_time": "2024-11-02T20:32:06.983Z"
   },
   {
    "duration": 19,
    "start_time": "2024-11-02T20:32:06.995Z"
   },
   {
    "duration": 103,
    "start_time": "2024-11-02T20:32:07.016Z"
   },
   {
    "duration": 130,
    "start_time": "2024-11-02T20:32:07.121Z"
   },
   {
    "duration": 243,
    "start_time": "2024-11-02T20:32:07.253Z"
   },
   {
    "duration": 264,
    "start_time": "2024-11-02T20:32:07.498Z"
   },
   {
    "duration": 185,
    "start_time": "2024-11-02T20:32:07.764Z"
   },
   {
    "duration": 429,
    "start_time": "2024-11-02T20:32:07.951Z"
   },
   {
    "duration": 1018,
    "start_time": "2024-11-02T20:34:18.129Z"
   },
   {
    "duration": 407,
    "start_time": "2024-11-02T20:34:19.149Z"
   },
   {
    "duration": 93,
    "start_time": "2024-11-02T20:34:19.558Z"
   },
   {
    "duration": 72,
    "start_time": "2024-11-02T20:34:19.653Z"
   },
   {
    "duration": 10,
    "start_time": "2024-11-02T20:34:19.728Z"
   },
   {
    "duration": 10,
    "start_time": "2024-11-02T20:34:19.740Z"
   },
   {
    "duration": 115,
    "start_time": "2024-11-02T20:34:19.752Z"
   },
   {
    "duration": 119,
    "start_time": "2024-11-02T20:34:19.869Z"
   },
   {
    "duration": 236,
    "start_time": "2024-11-02T20:34:19.990Z"
   },
   {
    "duration": 246,
    "start_time": "2024-11-02T20:34:20.228Z"
   },
   {
    "duration": 181,
    "start_time": "2024-11-02T20:34:20.476Z"
   },
   {
    "duration": 437,
    "start_time": "2024-11-02T20:34:20.659Z"
   },
   {
    "duration": 71,
    "start_time": "2024-11-02T20:34:21.098Z"
   },
   {
    "duration": 56,
    "start_time": "2024-11-02T20:34:21.171Z"
   },
   {
    "duration": 71,
    "start_time": "2024-11-02T20:45:24.641Z"
   },
   {
    "duration": 999,
    "start_time": "2024-11-02T20:46:04.759Z"
   },
   {
    "duration": 444,
    "start_time": "2024-11-02T20:46:05.760Z"
   },
   {
    "duration": 90,
    "start_time": "2024-11-02T20:46:06.206Z"
   },
   {
    "duration": 65,
    "start_time": "2024-11-02T20:46:06.299Z"
   },
   {
    "duration": 11,
    "start_time": "2024-11-02T20:46:06.368Z"
   },
   {
    "duration": 28,
    "start_time": "2024-11-02T20:46:06.381Z"
   },
   {
    "duration": 97,
    "start_time": "2024-11-02T20:46:06.412Z"
   },
   {
    "duration": 116,
    "start_time": "2024-11-02T20:46:06.511Z"
   },
   {
    "duration": 220,
    "start_time": "2024-11-02T20:46:06.629Z"
   },
   {
    "duration": 273,
    "start_time": "2024-11-02T20:46:06.851Z"
   },
   {
    "duration": 203,
    "start_time": "2024-11-02T20:46:07.126Z"
   },
   {
    "duration": 478,
    "start_time": "2024-11-02T20:46:07.331Z"
   },
   {
    "duration": 67,
    "start_time": "2024-11-02T20:46:07.811Z"
   },
   {
    "duration": 61,
    "start_time": "2024-11-02T20:46:07.881Z"
   },
   {
    "duration": 1033,
    "start_time": "2024-11-02T20:52:18.076Z"
   },
   {
    "duration": 423,
    "start_time": "2024-11-02T20:52:19.112Z"
   },
   {
    "duration": 102,
    "start_time": "2024-11-02T20:52:19.537Z"
   },
   {
    "duration": 72,
    "start_time": "2024-11-02T20:52:19.640Z"
   },
   {
    "duration": 11,
    "start_time": "2024-11-02T20:52:19.715Z"
   },
   {
    "duration": 11,
    "start_time": "2024-11-02T20:52:19.728Z"
   },
   {
    "duration": 113,
    "start_time": "2024-11-02T20:52:19.741Z"
   },
   {
    "duration": 127,
    "start_time": "2024-11-02T20:52:19.856Z"
   },
   {
    "duration": 237,
    "start_time": "2024-11-02T20:52:19.985Z"
   },
   {
    "duration": 246,
    "start_time": "2024-11-02T20:52:20.225Z"
   },
   {
    "duration": 193,
    "start_time": "2024-11-02T20:52:20.473Z"
   },
   {
    "duration": 432,
    "start_time": "2024-11-02T20:52:20.668Z"
   },
   {
    "duration": 2233,
    "start_time": "2024-11-02T20:52:21.102Z"
   },
   {
    "duration": 1011,
    "start_time": "2024-11-02T21:01:30.547Z"
   },
   {
    "duration": 412,
    "start_time": "2024-11-02T21:01:31.560Z"
   },
   {
    "duration": 96,
    "start_time": "2024-11-02T21:01:31.973Z"
   },
   {
    "duration": 99,
    "start_time": "2024-11-02T21:01:32.071Z"
   },
   {
    "duration": 10,
    "start_time": "2024-11-02T21:01:32.174Z"
   },
   {
    "duration": 23,
    "start_time": "2024-11-02T21:01:32.186Z"
   },
   {
    "duration": 99,
    "start_time": "2024-11-02T21:01:32.211Z"
   },
   {
    "duration": 119,
    "start_time": "2024-11-02T21:01:32.313Z"
   },
   {
    "duration": 224,
    "start_time": "2024-11-02T21:01:32.433Z"
   },
   {
    "duration": 470,
    "start_time": "2024-11-02T21:01:32.659Z"
   },
   {
    "duration": 0,
    "start_time": "2024-11-02T21:01:33.131Z"
   },
   {
    "duration": 0,
    "start_time": "2024-11-02T21:01:33.132Z"
   },
   {
    "duration": 977,
    "start_time": "2024-11-02T21:01:44.397Z"
   },
   {
    "duration": 414,
    "start_time": "2024-11-02T21:01:45.376Z"
   },
   {
    "duration": 105,
    "start_time": "2024-11-02T21:01:45.793Z"
   },
   {
    "duration": 62,
    "start_time": "2024-11-02T21:01:45.900Z"
   },
   {
    "duration": 10,
    "start_time": "2024-11-02T21:01:45.965Z"
   },
   {
    "duration": 12,
    "start_time": "2024-11-02T21:01:45.977Z"
   },
   {
    "duration": 90,
    "start_time": "2024-11-02T21:01:46.009Z"
   },
   {
    "duration": 120,
    "start_time": "2024-11-02T21:01:46.101Z"
   },
   {
    "duration": 223,
    "start_time": "2024-11-02T21:01:46.223Z"
   },
   {
    "duration": 246,
    "start_time": "2024-11-02T21:01:46.448Z"
   },
   {
    "duration": 183,
    "start_time": "2024-11-02T21:01:46.696Z"
   },
   {
    "duration": 337,
    "start_time": "2024-11-02T21:01:46.881Z"
   },
   {
    "duration": 1018,
    "start_time": "2024-11-02T21:02:07.630Z"
   },
   {
    "duration": 403,
    "start_time": "2024-11-02T21:02:08.650Z"
   },
   {
    "duration": 97,
    "start_time": "2024-11-02T21:02:09.055Z"
   },
   {
    "duration": 66,
    "start_time": "2024-11-02T21:02:09.155Z"
   },
   {
    "duration": 10,
    "start_time": "2024-11-02T21:02:09.224Z"
   },
   {
    "duration": 10,
    "start_time": "2024-11-02T21:02:09.236Z"
   },
   {
    "duration": 110,
    "start_time": "2024-11-02T21:02:09.248Z"
   },
   {
    "duration": 121,
    "start_time": "2024-11-02T21:02:09.359Z"
   },
   {
    "duration": 216,
    "start_time": "2024-11-02T21:02:09.481Z"
   },
   {
    "duration": 248,
    "start_time": "2024-11-02T21:02:09.699Z"
   },
   {
    "duration": 193,
    "start_time": "2024-11-02T21:02:09.949Z"
   },
   {
    "duration": 443,
    "start_time": "2024-11-02T21:02:10.144Z"
   },
   {
    "duration": 3,
    "start_time": "2024-11-02T21:03:43.809Z"
   },
   {
    "duration": 985,
    "start_time": "2024-11-02T21:03:48.174Z"
   },
   {
    "duration": 417,
    "start_time": "2024-11-02T21:03:49.163Z"
   },
   {
    "duration": 96,
    "start_time": "2024-11-02T21:03:49.582Z"
   },
   {
    "duration": 165,
    "start_time": "2024-11-02T21:03:49.679Z"
   },
   {
    "duration": 15,
    "start_time": "2024-11-02T21:03:49.848Z"
   },
   {
    "duration": 14,
    "start_time": "2024-11-02T21:03:49.864Z"
   },
   {
    "duration": 122,
    "start_time": "2024-11-02T21:03:49.880Z"
   },
   {
    "duration": 175,
    "start_time": "2024-11-02T21:03:50.008Z"
   },
   {
    "duration": 222,
    "start_time": "2024-11-02T21:03:50.185Z"
   },
   {
    "duration": 247,
    "start_time": "2024-11-02T21:03:50.409Z"
   },
   {
    "duration": 182,
    "start_time": "2024-11-02T21:03:50.658Z"
   },
   {
    "duration": 454,
    "start_time": "2024-11-02T21:03:50.842Z"
   },
   {
    "duration": 97,
    "start_time": "2024-11-02T21:05:41.572Z"
   },
   {
    "duration": 991,
    "start_time": "2024-11-02T21:06:14.726Z"
   },
   {
    "duration": 429,
    "start_time": "2024-11-02T21:06:15.719Z"
   },
   {
    "duration": 117,
    "start_time": "2024-11-02T21:06:16.150Z"
   },
   {
    "duration": 130,
    "start_time": "2024-11-02T21:06:16.269Z"
   },
   {
    "duration": 13,
    "start_time": "2024-11-02T21:06:16.409Z"
   },
   {
    "duration": 14,
    "start_time": "2024-11-02T21:06:16.424Z"
   },
   {
    "duration": 127,
    "start_time": "2024-11-02T21:06:16.440Z"
   },
   {
    "duration": 121,
    "start_time": "2024-11-02T21:06:16.569Z"
   },
   {
    "duration": 233,
    "start_time": "2024-11-02T21:06:16.692Z"
   },
   {
    "duration": 279,
    "start_time": "2024-11-02T21:06:16.927Z"
   },
   {
    "duration": 207,
    "start_time": "2024-11-02T21:06:17.210Z"
   },
   {
    "duration": 474,
    "start_time": "2024-11-02T21:06:17.419Z"
   },
   {
    "duration": 107,
    "start_time": "2024-11-02T21:06:17.895Z"
   },
   {
    "duration": 286,
    "start_time": "2024-11-02T21:06:18.010Z"
   },
   {
    "duration": 1072,
    "start_time": "2024-11-02T21:10:55.925Z"
   },
   {
    "duration": 537,
    "start_time": "2024-11-02T21:10:57.000Z"
   },
   {
    "duration": 123,
    "start_time": "2024-11-02T21:10:57.538Z"
   },
   {
    "duration": 123,
    "start_time": "2024-11-02T21:10:57.663Z"
   },
   {
    "duration": 18,
    "start_time": "2024-11-02T21:10:57.790Z"
   },
   {
    "duration": 14,
    "start_time": "2024-11-02T21:10:57.816Z"
   },
   {
    "duration": 104,
    "start_time": "2024-11-02T21:10:57.832Z"
   },
   {
    "duration": 122,
    "start_time": "2024-11-02T21:10:57.940Z"
   },
   {
    "duration": 238,
    "start_time": "2024-11-02T21:10:58.064Z"
   },
   {
    "duration": 252,
    "start_time": "2024-11-02T21:10:58.304Z"
   },
   {
    "duration": 1429,
    "start_time": "2024-11-02T21:10:58.558Z"
   },
   {
    "duration": 96,
    "start_time": "2024-11-02T21:10:59.990Z"
   },
   {
    "duration": 42,
    "start_time": "2024-11-02T21:11:00.087Z"
   },
   {
    "duration": 468,
    "start_time": "2024-11-02T21:11:00.133Z"
   },
   {
    "duration": 110,
    "start_time": "2024-11-02T21:11:00.603Z"
   },
   {
    "duration": 303,
    "start_time": "2024-11-02T21:11:00.717Z"
   },
   {
    "duration": 945,
    "start_time": "2024-11-02T21:14:18.558Z"
   },
   {
    "duration": 450,
    "start_time": "2024-11-02T21:14:19.505Z"
   },
   {
    "duration": 101,
    "start_time": "2024-11-02T21:14:19.960Z"
   },
   {
    "duration": 157,
    "start_time": "2024-11-02T21:14:20.065Z"
   },
   {
    "duration": 14,
    "start_time": "2024-11-02T21:14:20.225Z"
   },
   {
    "duration": 15,
    "start_time": "2024-11-02T21:14:20.242Z"
   },
   {
    "duration": 156,
    "start_time": "2024-11-02T21:14:20.259Z"
   },
   {
    "duration": 177,
    "start_time": "2024-11-02T21:14:20.418Z"
   },
   {
    "duration": 349,
    "start_time": "2024-11-02T21:14:20.598Z"
   },
   {
    "duration": 389,
    "start_time": "2024-11-02T21:14:20.949Z"
   },
   {
    "duration": 1324,
    "start_time": "2024-11-02T21:14:21.340Z"
   },
   {
    "duration": 90,
    "start_time": "2024-11-02T21:14:22.668Z"
   },
   {
    "duration": 34,
    "start_time": "2024-11-02T21:14:22.761Z"
   },
   {
    "duration": 526,
    "start_time": "2024-11-02T21:14:22.797Z"
   },
   {
    "duration": 0,
    "start_time": "2024-11-02T21:14:23.325Z"
   },
   {
    "duration": 0,
    "start_time": "2024-11-02T21:14:23.325Z"
   },
   {
    "duration": 0,
    "start_time": "2024-11-02T21:14:23.327Z"
   },
   {
    "duration": 977,
    "start_time": "2024-11-02T21:14:37.246Z"
   },
   {
    "duration": 442,
    "start_time": "2024-11-02T21:14:38.225Z"
   },
   {
    "duration": 95,
    "start_time": "2024-11-02T21:14:38.669Z"
   },
   {
    "duration": 115,
    "start_time": "2024-11-02T21:14:38.765Z"
   },
   {
    "duration": 11,
    "start_time": "2024-11-02T21:14:38.882Z"
   },
   {
    "duration": 22,
    "start_time": "2024-11-02T21:14:38.894Z"
   },
   {
    "duration": 95,
    "start_time": "2024-11-02T21:14:38.918Z"
   },
   {
    "duration": 120,
    "start_time": "2024-11-02T21:14:39.016Z"
   },
   {
    "duration": 226,
    "start_time": "2024-11-02T21:14:39.138Z"
   },
   {
    "duration": 275,
    "start_time": "2024-11-02T21:14:39.367Z"
   },
   {
    "duration": 1274,
    "start_time": "2024-11-02T21:14:39.643Z"
   },
   {
    "duration": 97,
    "start_time": "2024-11-02T21:14:40.918Z"
   },
   {
    "duration": 35,
    "start_time": "2024-11-02T21:14:41.017Z"
   },
   {
    "duration": 914,
    "start_time": "2024-11-02T21:14:41.056Z"
   },
   {
    "duration": 0,
    "start_time": "2024-11-02T21:14:41.972Z"
   },
   {
    "duration": 0,
    "start_time": "2024-11-02T21:14:41.973Z"
   },
   {
    "duration": 0,
    "start_time": "2024-11-02T21:14:41.975Z"
   },
   {
    "duration": 958,
    "start_time": "2024-11-02T21:15:02.851Z"
   },
   {
    "duration": 435,
    "start_time": "2024-11-02T21:15:03.815Z"
   },
   {
    "duration": 98,
    "start_time": "2024-11-02T21:15:04.252Z"
   },
   {
    "duration": 157,
    "start_time": "2024-11-02T21:15:04.352Z"
   },
   {
    "duration": 12,
    "start_time": "2024-11-02T21:15:04.512Z"
   },
   {
    "duration": 12,
    "start_time": "2024-11-02T21:15:04.526Z"
   },
   {
    "duration": 102,
    "start_time": "2024-11-02T21:15:04.539Z"
   },
   {
    "duration": 127,
    "start_time": "2024-11-02T21:15:04.643Z"
   },
   {
    "duration": 237,
    "start_time": "2024-11-02T21:15:04.772Z"
   },
   {
    "duration": 263,
    "start_time": "2024-11-02T21:15:05.010Z"
   },
   {
    "duration": 1369,
    "start_time": "2024-11-02T21:15:05.275Z"
   },
   {
    "duration": 96,
    "start_time": "2024-11-02T21:15:06.645Z"
   },
   {
    "duration": 34,
    "start_time": "2024-11-02T21:15:06.743Z"
   },
   {
    "duration": 299,
    "start_time": "2024-11-02T21:15:06.780Z"
   },
   {
    "duration": 487,
    "start_time": "2024-11-02T21:15:07.080Z"
   },
   {
    "duration": 119,
    "start_time": "2024-11-02T21:15:07.569Z"
   },
   {
    "duration": 295,
    "start_time": "2024-11-02T21:15:07.690Z"
   },
   {
    "duration": 980,
    "start_time": "2024-11-02T21:15:57.317Z"
   },
   {
    "duration": 411,
    "start_time": "2024-11-02T21:15:58.299Z"
   },
   {
    "duration": 105,
    "start_time": "2024-11-02T21:15:58.712Z"
   },
   {
    "duration": 135,
    "start_time": "2024-11-02T21:15:58.818Z"
   },
   {
    "duration": 13,
    "start_time": "2024-11-02T21:15:58.957Z"
   },
   {
    "duration": 12,
    "start_time": "2024-11-02T21:15:58.972Z"
   },
   {
    "duration": 123,
    "start_time": "2024-11-02T21:15:58.986Z"
   },
   {
    "duration": 153,
    "start_time": "2024-11-02T21:15:59.111Z"
   },
   {
    "duration": 224,
    "start_time": "2024-11-02T21:15:59.266Z"
   },
   {
    "duration": 281,
    "start_time": "2024-11-02T21:15:59.492Z"
   },
   {
    "duration": 1301,
    "start_time": "2024-11-02T21:15:59.775Z"
   },
   {
    "duration": 99,
    "start_time": "2024-11-02T21:16:01.077Z"
   },
   {
    "duration": 44,
    "start_time": "2024-11-02T21:16:01.178Z"
   },
   {
    "duration": 458,
    "start_time": "2024-11-02T21:16:01.226Z"
   },
   {
    "duration": 112,
    "start_time": "2024-11-02T21:16:01.686Z"
   },
   {
    "duration": 271,
    "start_time": "2024-11-02T21:16:01.800Z"
   },
   {
    "duration": 815,
    "start_time": "2024-11-02T21:18:29.848Z"
   },
   {
    "duration": 912,
    "start_time": "2024-11-02T21:18:40.772Z"
   },
   {
    "duration": 422,
    "start_time": "2024-11-02T21:18:41.688Z"
   },
   {
    "duration": 103,
    "start_time": "2024-11-02T21:18:42.112Z"
   },
   {
    "duration": 128,
    "start_time": "2024-11-02T21:18:42.217Z"
   },
   {
    "duration": 12,
    "start_time": "2024-11-02T21:18:42.348Z"
   },
   {
    "duration": 12,
    "start_time": "2024-11-02T21:18:42.361Z"
   },
   {
    "duration": 138,
    "start_time": "2024-11-02T21:18:42.374Z"
   },
   {
    "duration": 149,
    "start_time": "2024-11-02T21:18:42.513Z"
   },
   {
    "duration": 253,
    "start_time": "2024-11-02T21:18:42.665Z"
   },
   {
    "duration": 247,
    "start_time": "2024-11-02T21:18:42.919Z"
   },
   {
    "duration": 41,
    "start_time": "2024-11-02T21:18:43.168Z"
   },
   {
    "duration": 487,
    "start_time": "2024-11-02T21:18:43.211Z"
   },
   {
    "duration": 96,
    "start_time": "2024-11-02T21:18:43.700Z"
   },
   {
    "duration": 222,
    "start_time": "2024-11-02T21:18:43.800Z"
   },
   {
    "duration": 835,
    "start_time": "2024-11-02T21:18:50.786Z"
   },
   {
    "duration": 937,
    "start_time": "2024-11-02T21:18:56.386Z"
   },
   {
    "duration": 418,
    "start_time": "2024-11-02T21:18:57.326Z"
   },
   {
    "duration": 105,
    "start_time": "2024-11-02T21:18:57.745Z"
   },
   {
    "duration": 121,
    "start_time": "2024-11-02T21:18:57.852Z"
   },
   {
    "duration": 10,
    "start_time": "2024-11-02T21:18:57.976Z"
   },
   {
    "duration": 23,
    "start_time": "2024-11-02T21:18:57.988Z"
   },
   {
    "duration": 100,
    "start_time": "2024-11-02T21:18:58.013Z"
   },
   {
    "duration": 123,
    "start_time": "2024-11-02T21:18:58.115Z"
   },
   {
    "duration": 243,
    "start_time": "2024-11-02T21:18:58.239Z"
   },
   {
    "duration": 286,
    "start_time": "2024-11-02T21:18:58.484Z"
   },
   {
    "duration": 41,
    "start_time": "2024-11-02T21:18:58.772Z"
   },
   {
    "duration": 551,
    "start_time": "2024-11-02T21:18:58.815Z"
   },
   {
    "duration": 131,
    "start_time": "2024-11-02T21:18:59.368Z"
   },
   {
    "duration": 313,
    "start_time": "2024-11-02T21:18:59.502Z"
   },
   {
    "duration": 910,
    "start_time": "2024-11-02T21:21:08.383Z"
   },
   {
    "duration": 403,
    "start_time": "2024-11-02T21:21:09.296Z"
   },
   {
    "duration": 108,
    "start_time": "2024-11-02T21:21:09.701Z"
   },
   {
    "duration": 132,
    "start_time": "2024-11-02T21:21:09.810Z"
   },
   {
    "duration": 11,
    "start_time": "2024-11-02T21:21:09.944Z"
   },
   {
    "duration": 11,
    "start_time": "2024-11-02T21:21:09.957Z"
   },
   {
    "duration": 120,
    "start_time": "2024-11-02T21:21:09.970Z"
   },
   {
    "duration": 121,
    "start_time": "2024-11-02T21:21:10.092Z"
   },
   {
    "duration": 223,
    "start_time": "2024-11-02T21:21:10.215Z"
   },
   {
    "duration": 242,
    "start_time": "2024-11-02T21:21:10.440Z"
   },
   {
    "duration": 35,
    "start_time": "2024-11-02T21:21:10.684Z"
   },
   {
    "duration": 465,
    "start_time": "2024-11-02T21:21:10.721Z"
   },
   {
    "duration": 312,
    "start_time": "2024-11-02T21:21:11.188Z"
   },
   {
    "duration": 613,
    "start_time": "2024-11-02T21:21:11.508Z"
   },
   {
    "duration": 953,
    "start_time": "2024-11-02T21:23:18.656Z"
   },
   {
    "duration": 409,
    "start_time": "2024-11-02T21:23:19.611Z"
   },
   {
    "duration": 98,
    "start_time": "2024-11-02T21:23:20.022Z"
   },
   {
    "duration": 132,
    "start_time": "2024-11-02T21:23:20.122Z"
   },
   {
    "duration": 10,
    "start_time": "2024-11-02T21:23:20.256Z"
   },
   {
    "duration": 11,
    "start_time": "2024-11-02T21:23:20.269Z"
   },
   {
    "duration": 112,
    "start_time": "2024-11-02T21:23:20.282Z"
   },
   {
    "duration": 128,
    "start_time": "2024-11-02T21:23:20.396Z"
   },
   {
    "duration": 224,
    "start_time": "2024-11-02T21:23:20.525Z"
   },
   {
    "duration": 246,
    "start_time": "2024-11-02T21:23:20.750Z"
   },
   {
    "duration": 36,
    "start_time": "2024-11-02T21:23:20.998Z"
   },
   {
    "duration": 452,
    "start_time": "2024-11-02T21:23:21.036Z"
   },
   {
    "duration": 311,
    "start_time": "2024-11-02T21:23:21.490Z"
   },
   {
    "duration": 651,
    "start_time": "2024-11-02T21:23:21.809Z"
   },
   {
    "duration": 945,
    "start_time": "2024-11-02T21:28:47.221Z"
   },
   {
    "duration": 413,
    "start_time": "2024-11-02T21:28:48.168Z"
   },
   {
    "duration": 90,
    "start_time": "2024-11-02T21:28:48.583Z"
   },
   {
    "duration": 123,
    "start_time": "2024-11-02T21:28:48.674Z"
   },
   {
    "duration": 15,
    "start_time": "2024-11-02T21:28:48.800Z"
   },
   {
    "duration": 10,
    "start_time": "2024-11-02T21:28:48.817Z"
   },
   {
    "duration": 105,
    "start_time": "2024-11-02T21:28:48.829Z"
   },
   {
    "duration": 119,
    "start_time": "2024-11-02T21:28:48.936Z"
   },
   {
    "duration": 228,
    "start_time": "2024-11-02T21:28:49.057Z"
   },
   {
    "duration": 254,
    "start_time": "2024-11-02T21:28:49.288Z"
   },
   {
    "duration": 32,
    "start_time": "2024-11-02T21:28:49.543Z"
   },
   {
    "duration": 419,
    "start_time": "2024-11-02T21:28:49.576Z"
   },
   {
    "duration": 323,
    "start_time": "2024-11-02T21:28:49.996Z"
   },
   {
    "duration": 619,
    "start_time": "2024-11-02T21:28:50.322Z"
   },
   {
    "duration": 907,
    "start_time": "2024-11-02T21:28:57.097Z"
   },
   {
    "duration": 416,
    "start_time": "2024-11-02T21:28:58.007Z"
   },
   {
    "duration": 104,
    "start_time": "2024-11-02T21:28:58.425Z"
   },
   {
    "duration": 116,
    "start_time": "2024-11-02T21:28:58.531Z"
   },
   {
    "duration": 10,
    "start_time": "2024-11-02T21:28:58.649Z"
   },
   {
    "duration": 11,
    "start_time": "2024-11-02T21:28:58.661Z"
   },
   {
    "duration": 121,
    "start_time": "2024-11-02T21:28:58.673Z"
   },
   {
    "duration": 131,
    "start_time": "2024-11-02T21:28:58.795Z"
   },
   {
    "duration": 233,
    "start_time": "2024-11-02T21:28:58.928Z"
   },
   {
    "duration": 272,
    "start_time": "2024-11-02T21:28:59.164Z"
   },
   {
    "duration": 35,
    "start_time": "2024-11-02T21:28:59.438Z"
   },
   {
    "duration": 505,
    "start_time": "2024-11-02T21:28:59.477Z"
   },
   {
    "duration": 329,
    "start_time": "2024-11-02T21:28:59.984Z"
   },
   {
    "duration": 620,
    "start_time": "2024-11-02T21:29:00.315Z"
   },
   {
    "duration": 428562,
    "start_time": "2024-11-02T21:29:00.937Z"
   },
   {
    "duration": 14,
    "start_time": "2024-11-02T21:36:09.502Z"
   },
   {
    "duration": 1080,
    "start_time": "2024-11-02T21:44:31.674Z"
   },
   {
    "duration": 416,
    "start_time": "2024-11-02T21:44:32.757Z"
   },
   {
    "duration": 102,
    "start_time": "2024-11-02T21:44:33.174Z"
   },
   {
    "duration": 69,
    "start_time": "2024-11-02T21:44:33.278Z"
   },
   {
    "duration": 9,
    "start_time": "2024-11-02T21:44:33.351Z"
   },
   {
    "duration": 12,
    "start_time": "2024-11-02T21:44:33.362Z"
   },
   {
    "duration": 111,
    "start_time": "2024-11-02T21:44:33.375Z"
   },
   {
    "duration": 116,
    "start_time": "2024-11-02T21:44:33.487Z"
   },
   {
    "duration": 224,
    "start_time": "2024-11-02T21:44:33.608Z"
   },
   {
    "duration": 241,
    "start_time": "2024-11-02T21:44:33.834Z"
   },
   {
    "duration": 39,
    "start_time": "2024-11-02T21:44:34.077Z"
   },
   {
    "duration": 448,
    "start_time": "2024-11-02T21:44:34.119Z"
   },
   {
    "duration": 349,
    "start_time": "2024-11-02T21:44:34.569Z"
   },
   {
    "duration": 612,
    "start_time": "2024-11-02T21:44:34.920Z"
   },
   {
    "duration": 1151,
    "start_time": "2024-11-02T21:47:12.264Z"
   },
   {
    "duration": 483,
    "start_time": "2024-11-02T21:47:13.418Z"
   },
   {
    "duration": 119,
    "start_time": "2024-11-02T21:47:13.903Z"
   },
   {
    "duration": 68,
    "start_time": "2024-11-02T21:47:14.027Z"
   },
   {
    "duration": 22,
    "start_time": "2024-11-02T21:47:14.098Z"
   },
   {
    "duration": 13,
    "start_time": "2024-11-02T21:47:14.121Z"
   },
   {
    "duration": 124,
    "start_time": "2024-11-02T21:47:14.136Z"
   },
   {
    "duration": 118,
    "start_time": "2024-11-02T21:47:14.261Z"
   },
   {
    "duration": 275,
    "start_time": "2024-11-02T21:47:14.381Z"
   },
   {
    "duration": 310,
    "start_time": "2024-11-02T21:47:14.658Z"
   },
   {
    "duration": 40,
    "start_time": "2024-11-02T21:47:14.970Z"
   },
   {
    "duration": 497,
    "start_time": "2024-11-02T21:47:15.012Z"
   },
   {
    "duration": 400,
    "start_time": "2024-11-02T21:47:15.512Z"
   },
   {
    "duration": 776,
    "start_time": "2024-11-02T21:47:15.918Z"
   },
   {
    "duration": 435807,
    "start_time": "2024-11-02T21:47:16.696Z"
   },
   {
    "duration": 5618,
    "start_time": "2024-11-02T21:54:32.508Z"
   },
   {
    "duration": 29098,
    "start_time": "2024-11-02T21:54:38.128Z"
   },
   {
    "duration": 332678,
    "start_time": "2024-11-02T21:55:07.230Z"
   },
   {
    "duration": 167,
    "start_time": "2024-11-02T22:17:36.197Z"
   },
   {
    "duration": 1232,
    "start_time": "2024-11-02T22:20:33.536Z"
   },
   {
    "duration": 501,
    "start_time": "2024-11-02T22:20:34.770Z"
   },
   {
    "duration": 102,
    "start_time": "2024-11-02T22:20:35.273Z"
   },
   {
    "duration": 101,
    "start_time": "2024-11-02T22:20:35.377Z"
   },
   {
    "duration": 11,
    "start_time": "2024-11-02T22:20:35.482Z"
   },
   {
    "duration": 25,
    "start_time": "2024-11-02T22:20:35.495Z"
   },
   {
    "duration": 96,
    "start_time": "2024-11-02T22:20:35.522Z"
   },
   {
    "duration": 140,
    "start_time": "2024-11-02T22:20:35.620Z"
   },
   {
    "duration": 283,
    "start_time": "2024-11-02T22:20:35.762Z"
   },
   {
    "duration": 265,
    "start_time": "2024-11-02T22:20:36.048Z"
   },
   {
    "duration": 34,
    "start_time": "2024-11-02T22:20:36.316Z"
   },
   {
    "duration": 443,
    "start_time": "2024-11-02T22:20:36.352Z"
   },
   {
    "duration": 344,
    "start_time": "2024-11-02T22:20:36.797Z"
   },
   {
    "duration": 698,
    "start_time": "2024-11-02T22:20:37.144Z"
   },
   {
    "duration": 1159,
    "start_time": "2024-11-02T22:22:41.327Z"
   },
   {
    "duration": 457,
    "start_time": "2024-11-02T22:22:42.489Z"
   },
   {
    "duration": 121,
    "start_time": "2024-11-02T22:22:42.948Z"
   },
   {
    "duration": 87,
    "start_time": "2024-11-02T22:22:43.071Z"
   },
   {
    "duration": 12,
    "start_time": "2024-11-02T22:22:43.161Z"
   },
   {
    "duration": 10,
    "start_time": "2024-11-02T22:22:43.175Z"
   },
   {
    "duration": 112,
    "start_time": "2024-11-02T22:22:43.187Z"
   },
   {
    "duration": 159,
    "start_time": "2024-11-02T22:22:43.301Z"
   },
   {
    "duration": 283,
    "start_time": "2024-11-02T22:22:43.462Z"
   },
   {
    "duration": 264,
    "start_time": "2024-11-02T22:22:43.747Z"
   },
   {
    "duration": 33,
    "start_time": "2024-11-02T22:22:44.013Z"
   },
   {
    "duration": 457,
    "start_time": "2024-11-02T22:22:44.048Z"
   },
   {
    "duration": 365,
    "start_time": "2024-11-02T22:22:44.510Z"
   },
   {
    "duration": 650,
    "start_time": "2024-11-02T22:22:44.879Z"
   },
   {
    "duration": 485114,
    "start_time": "2024-11-02T22:22:45.531Z"
   },
   {
    "duration": 175383,
    "start_time": "2024-11-02T22:30:50.647Z"
   },
   {
    "duration": 29443,
    "start_time": "2024-11-02T22:33:46.109Z"
   },
   {
    "duration": 331667,
    "start_time": "2024-11-02T22:34:15.554Z"
   },
   {
    "duration": 415709,
    "start_time": "2024-11-02T22:39:47.225Z"
   },
   {
    "duration": 3564,
    "start_time": "2024-11-02T22:46:42.937Z"
   },
   {
    "duration": 154,
    "start_time": "2024-11-03T17:39:22.132Z"
   },
   {
    "duration": 2725,
    "start_time": "2024-11-03T17:40:25.584Z"
   },
   {
    "duration": 440,
    "start_time": "2024-11-03T17:40:28.312Z"
   },
   {
    "duration": 91,
    "start_time": "2024-11-03T17:40:28.754Z"
   },
   {
    "duration": 67,
    "start_time": "2024-11-03T17:40:28.847Z"
   },
   {
    "duration": 11,
    "start_time": "2024-11-03T17:40:28.916Z"
   },
   {
    "duration": 10,
    "start_time": "2024-11-03T17:40:28.928Z"
   },
   {
    "duration": 112,
    "start_time": "2024-11-03T17:40:28.940Z"
   },
   {
    "duration": 120,
    "start_time": "2024-11-03T17:40:29.053Z"
   },
   {
    "duration": 222,
    "start_time": "2024-11-03T17:40:29.174Z"
   },
   {
    "duration": 240,
    "start_time": "2024-11-03T17:40:29.398Z"
   },
   {
    "duration": 30,
    "start_time": "2024-11-03T17:40:29.640Z"
   },
   {
    "duration": 482,
    "start_time": "2024-11-03T17:40:29.686Z"
   },
   {
    "duration": 307,
    "start_time": "2024-11-03T17:40:30.170Z"
   },
   {
    "duration": 619,
    "start_time": "2024-11-03T17:40:30.480Z"
   },
   {
    "duration": 1048,
    "start_time": "2024-11-03T17:41:22.030Z"
   },
   {
    "duration": 417,
    "start_time": "2024-11-03T17:41:23.080Z"
   },
   {
    "duration": 97,
    "start_time": "2024-11-03T17:41:23.499Z"
   },
   {
    "duration": 58,
    "start_time": "2024-11-03T17:41:23.598Z"
   },
   {
    "duration": 10,
    "start_time": "2024-11-03T17:41:23.660Z"
   },
   {
    "duration": 29,
    "start_time": "2024-11-03T17:41:23.671Z"
   },
   {
    "duration": 103,
    "start_time": "2024-11-03T17:41:23.702Z"
   },
   {
    "duration": 116,
    "start_time": "2024-11-03T17:41:23.807Z"
   },
   {
    "duration": 219,
    "start_time": "2024-11-03T17:41:23.925Z"
   },
   {
    "duration": 237,
    "start_time": "2024-11-03T17:41:24.146Z"
   },
   {
    "duration": 30,
    "start_time": "2024-11-03T17:41:24.386Z"
   },
   {
    "duration": 445,
    "start_time": "2024-11-03T17:41:24.418Z"
   },
   {
    "duration": 314,
    "start_time": "2024-11-03T17:41:24.865Z"
   },
   {
    "duration": 605,
    "start_time": "2024-11-03T17:41:25.186Z"
   },
   {
    "duration": 421570,
    "start_time": "2024-11-03T17:41:25.793Z"
   },
   {
    "duration": 5342,
    "start_time": "2024-11-03T17:48:27.364Z"
   },
   {
    "duration": 28873,
    "start_time": "2024-11-03T17:48:32.709Z"
   },
   {
    "duration": 332222,
    "start_time": "2024-11-03T17:49:01.583Z"
   },
   {
    "duration": 412990,
    "start_time": "2024-11-03T17:54:33.808Z"
   },
   {
    "duration": 3750,
    "start_time": "2024-11-03T18:01:26.801Z"
   },
   {
    "duration": 594,
    "start_time": "2024-11-03T18:25:33.975Z"
   },
   {
    "duration": 293,
    "start_time": "2024-11-03T18:26:01.744Z"
   },
   {
    "duration": 979,
    "start_time": "2024-11-03T18:28:20.230Z"
   },
   {
    "duration": 1072,
    "start_time": "2024-11-03T18:28:30.692Z"
   },
   {
    "duration": 407,
    "start_time": "2024-11-03T18:28:31.766Z"
   },
   {
    "duration": 91,
    "start_time": "2024-11-03T18:28:32.175Z"
   },
   {
    "duration": 93,
    "start_time": "2024-11-03T18:28:32.268Z"
   },
   {
    "duration": 9,
    "start_time": "2024-11-03T18:28:32.364Z"
   },
   {
    "duration": 10,
    "start_time": "2024-11-03T18:28:32.387Z"
   },
   {
    "duration": 103,
    "start_time": "2024-11-03T18:28:32.399Z"
   },
   {
    "duration": 118,
    "start_time": "2024-11-03T18:28:32.504Z"
   },
   {
    "duration": 229,
    "start_time": "2024-11-03T18:28:32.624Z"
   },
   {
    "duration": 245,
    "start_time": "2024-11-03T18:28:32.855Z"
   },
   {
    "duration": 36,
    "start_time": "2024-11-03T18:28:33.102Z"
   },
   {
    "duration": 427,
    "start_time": "2024-11-03T18:28:33.141Z"
   },
   {
    "duration": 360,
    "start_time": "2024-11-03T18:28:33.571Z"
   },
   {
    "duration": 611,
    "start_time": "2024-11-03T18:28:33.935Z"
   },
   {
    "duration": 424330,
    "start_time": "2024-11-03T18:28:34.548Z"
   },
   {
    "duration": 5609,
    "start_time": "2024-11-03T18:35:38.880Z"
   },
   {
    "duration": 28940,
    "start_time": "2024-11-03T18:35:44.491Z"
   },
   {
    "duration": 331969,
    "start_time": "2024-11-03T18:36:13.433Z"
   },
   {
    "duration": 407694,
    "start_time": "2024-11-03T18:41:45.404Z"
   },
   {
    "duration": 3515,
    "start_time": "2024-11-03T18:48:33.100Z"
   },
   {
    "duration": 568,
    "start_time": "2024-11-03T19:33:24.615Z"
   },
   {
    "duration": 1031,
    "start_time": "2024-11-03T19:35:41.886Z"
   },
   {
    "duration": 436,
    "start_time": "2024-11-03T19:35:42.919Z"
   },
   {
    "duration": 93,
    "start_time": "2024-11-03T19:35:43.357Z"
   },
   {
    "duration": 72,
    "start_time": "2024-11-03T19:35:43.452Z"
   },
   {
    "duration": 10,
    "start_time": "2024-11-03T19:35:43.526Z"
   },
   {
    "duration": 10,
    "start_time": "2024-11-03T19:35:43.539Z"
   },
   {
    "duration": 111,
    "start_time": "2024-11-03T19:35:43.551Z"
   },
   {
    "duration": 124,
    "start_time": "2024-11-03T19:35:43.663Z"
   },
   {
    "duration": 232,
    "start_time": "2024-11-03T19:35:43.789Z"
   },
   {
    "duration": 243,
    "start_time": "2024-11-03T19:35:44.023Z"
   },
   {
    "duration": 39,
    "start_time": "2024-11-03T19:35:44.268Z"
   },
   {
    "duration": 451,
    "start_time": "2024-11-03T19:35:44.309Z"
   },
   {
    "duration": 322,
    "start_time": "2024-11-03T19:35:44.761Z"
   },
   {
    "duration": 618,
    "start_time": "2024-11-03T19:35:45.086Z"
   },
   {
    "duration": 421258,
    "start_time": "2024-11-03T19:35:45.705Z"
   },
   {
    "duration": 5438,
    "start_time": "2024-11-03T19:42:46.966Z"
   },
   {
    "duration": 29028,
    "start_time": "2024-11-03T19:42:52.406Z"
   },
   {
    "duration": 333571,
    "start_time": "2024-11-03T19:43:21.436Z"
   },
   {
    "duration": 435192,
    "start_time": "2024-11-03T19:48:55.009Z"
   },
   {
    "duration": 4103,
    "start_time": "2024-11-03T19:56:10.204Z"
   },
   {
    "duration": 3952,
    "start_time": "2024-11-03T20:03:04.334Z"
   },
   {
    "duration": 10,
    "start_time": "2024-11-03T20:48:06.683Z"
   },
   {
    "duration": 4,
    "start_time": "2024-11-03T20:49:57.885Z"
   },
   {
    "duration": 2755,
    "start_time": "2024-11-04T20:19:19.517Z"
   },
   {
    "duration": 458,
    "start_time": "2024-11-04T20:19:22.275Z"
   },
   {
    "duration": 102,
    "start_time": "2024-11-04T20:19:22.735Z"
   },
   {
    "duration": 62,
    "start_time": "2024-11-04T20:19:22.842Z"
   },
   {
    "duration": 10,
    "start_time": "2024-11-04T20:19:22.906Z"
   },
   {
    "duration": 27,
    "start_time": "2024-11-04T20:19:22.919Z"
   },
   {
    "duration": 105,
    "start_time": "2024-11-04T20:19:22.948Z"
   },
   {
    "duration": 122,
    "start_time": "2024-11-04T20:19:23.055Z"
   },
   {
    "duration": 240,
    "start_time": "2024-11-04T20:19:23.179Z"
   },
   {
    "duration": 241,
    "start_time": "2024-11-04T20:19:23.421Z"
   },
   {
    "duration": 31,
    "start_time": "2024-11-04T20:19:23.664Z"
   },
   {
    "duration": 531,
    "start_time": "2024-11-04T20:19:23.696Z"
   },
   {
    "duration": 312,
    "start_time": "2024-11-04T20:19:24.230Z"
   },
   {
    "duration": 617,
    "start_time": "2024-11-04T20:19:24.546Z"
   },
   {
    "duration": 1119,
    "start_time": "2024-11-04T20:21:00.458Z"
   },
   {
    "duration": 411,
    "start_time": "2024-11-04T20:21:01.579Z"
   },
   {
    "duration": 92,
    "start_time": "2024-11-04T20:21:01.992Z"
   },
   {
    "duration": 69,
    "start_time": "2024-11-04T20:21:02.086Z"
   },
   {
    "duration": 11,
    "start_time": "2024-11-04T20:21:02.158Z"
   },
   {
    "duration": 13,
    "start_time": "2024-11-04T20:21:02.170Z"
   },
   {
    "duration": 112,
    "start_time": "2024-11-04T20:21:02.186Z"
   },
   {
    "duration": 126,
    "start_time": "2024-11-04T20:21:02.300Z"
   },
   {
    "duration": 220,
    "start_time": "2024-11-04T20:21:02.428Z"
   },
   {
    "duration": 243,
    "start_time": "2024-11-04T20:21:02.650Z"
   },
   {
    "duration": 32,
    "start_time": "2024-11-04T20:21:02.894Z"
   },
   {
    "duration": 473,
    "start_time": "2024-11-04T20:21:02.928Z"
   },
   {
    "duration": 313,
    "start_time": "2024-11-04T20:21:03.403Z"
   },
   {
    "duration": 634,
    "start_time": "2024-11-04T20:21:03.719Z"
   },
   {
    "duration": 1051,
    "start_time": "2024-11-04T20:21:09.612Z"
   },
   {
    "duration": 427,
    "start_time": "2024-11-04T20:21:10.665Z"
   },
   {
    "duration": 98,
    "start_time": "2024-11-04T20:21:11.094Z"
   },
   {
    "duration": 95,
    "start_time": "2024-11-04T20:21:11.194Z"
   },
   {
    "duration": 10,
    "start_time": "2024-11-04T20:21:11.292Z"
   },
   {
    "duration": 11,
    "start_time": "2024-11-04T20:21:11.303Z"
   },
   {
    "duration": 112,
    "start_time": "2024-11-04T20:21:11.316Z"
   },
   {
    "duration": 120,
    "start_time": "2024-11-04T20:21:11.430Z"
   },
   {
    "duration": 225,
    "start_time": "2024-11-04T20:21:11.552Z"
   },
   {
    "duration": 255,
    "start_time": "2024-11-04T20:21:11.779Z"
   },
   {
    "duration": 36,
    "start_time": "2024-11-04T20:21:12.036Z"
   },
   {
    "duration": 438,
    "start_time": "2024-11-04T20:21:12.076Z"
   },
   {
    "duration": 328,
    "start_time": "2024-11-04T20:21:12.516Z"
   },
   {
    "duration": 634,
    "start_time": "2024-11-04T20:21:12.847Z"
   },
   {
    "duration": 1083,
    "start_time": "2024-11-04T20:23:07.790Z"
   },
   {
    "duration": 408,
    "start_time": "2024-11-04T20:23:08.875Z"
   },
   {
    "duration": 96,
    "start_time": "2024-11-04T20:23:09.285Z"
   },
   {
    "duration": 71,
    "start_time": "2024-11-04T20:23:09.383Z"
   },
   {
    "duration": 11,
    "start_time": "2024-11-04T20:23:09.457Z"
   },
   {
    "duration": 10,
    "start_time": "2024-11-04T20:23:09.470Z"
   },
   {
    "duration": 122,
    "start_time": "2024-11-04T20:23:09.482Z"
   },
   {
    "duration": 126,
    "start_time": "2024-11-04T20:23:09.606Z"
   },
   {
    "duration": 224,
    "start_time": "2024-11-04T20:23:09.733Z"
   },
   {
    "duration": 249,
    "start_time": "2024-11-04T20:23:09.960Z"
   },
   {
    "duration": 36,
    "start_time": "2024-11-04T20:23:10.211Z"
   },
   {
    "duration": 474,
    "start_time": "2024-11-04T20:23:10.249Z"
   },
   {
    "duration": 318,
    "start_time": "2024-11-04T20:23:10.725Z"
   },
   {
    "duration": 628,
    "start_time": "2024-11-04T20:23:11.046Z"
   },
   {
    "duration": 431993,
    "start_time": "2024-11-04T20:23:11.676Z"
   },
   {
    "duration": 5481,
    "start_time": "2024-11-04T20:30:23.671Z"
   },
   {
    "duration": 29438,
    "start_time": "2024-11-04T20:30:29.155Z"
   },
   {
    "duration": 1131,
    "start_time": "2024-11-04T20:58:15.653Z"
   },
   {
    "duration": 438,
    "start_time": "2024-11-04T20:58:16.786Z"
   },
   {
    "duration": 101,
    "start_time": "2024-11-04T20:58:17.226Z"
   },
   {
    "duration": 94,
    "start_time": "2024-11-04T20:58:17.330Z"
   },
   {
    "duration": 16,
    "start_time": "2024-11-04T20:58:17.427Z"
   },
   {
    "duration": 11,
    "start_time": "2024-11-04T20:58:17.445Z"
   },
   {
    "duration": 103,
    "start_time": "2024-11-04T20:58:17.458Z"
   },
   {
    "duration": 136,
    "start_time": "2024-11-04T20:58:17.563Z"
   },
   {
    "duration": 235,
    "start_time": "2024-11-04T20:58:17.701Z"
   },
   {
    "duration": 250,
    "start_time": "2024-11-04T20:58:17.939Z"
   },
   {
    "duration": 31,
    "start_time": "2024-11-04T20:58:18.190Z"
   },
   {
    "duration": 465,
    "start_time": "2024-11-04T20:58:18.223Z"
   },
   {
    "duration": 320,
    "start_time": "2024-11-04T20:58:18.691Z"
   },
   {
    "duration": 639,
    "start_time": "2024-11-04T20:58:19.014Z"
   },
   {
    "duration": 1045,
    "start_time": "2024-11-04T21:03:19.519Z"
   },
   {
    "duration": 426,
    "start_time": "2024-11-04T21:03:20.567Z"
   },
   {
    "duration": 104,
    "start_time": "2024-11-04T21:03:20.995Z"
   },
   {
    "duration": 76,
    "start_time": "2024-11-04T21:03:21.101Z"
   },
   {
    "duration": 13,
    "start_time": "2024-11-04T21:03:21.179Z"
   },
   {
    "duration": 11,
    "start_time": "2024-11-04T21:03:21.194Z"
   },
   {
    "duration": 110,
    "start_time": "2024-11-04T21:03:21.207Z"
   },
   {
    "duration": 126,
    "start_time": "2024-11-04T21:03:21.318Z"
   },
   {
    "duration": 218,
    "start_time": "2024-11-04T21:03:21.446Z"
   },
   {
    "duration": 246,
    "start_time": "2024-11-04T21:03:21.667Z"
   },
   {
    "duration": 36,
    "start_time": "2024-11-04T21:03:21.916Z"
   },
   {
    "duration": 446,
    "start_time": "2024-11-04T21:03:21.954Z"
   },
   {
    "duration": 328,
    "start_time": "2024-11-04T21:03:22.402Z"
   },
   {
    "duration": 646,
    "start_time": "2024-11-04T21:03:22.732Z"
   },
   {
    "duration": 1040,
    "start_time": "2024-11-04T21:04:46.635Z"
   },
   {
    "duration": 416,
    "start_time": "2024-11-04T21:04:47.677Z"
   },
   {
    "duration": 92,
    "start_time": "2024-11-04T21:04:48.094Z"
   },
   {
    "duration": 74,
    "start_time": "2024-11-04T21:04:48.188Z"
   },
   {
    "duration": 10,
    "start_time": "2024-11-04T21:04:48.265Z"
   },
   {
    "duration": 10,
    "start_time": "2024-11-04T21:04:48.277Z"
   },
   {
    "duration": 114,
    "start_time": "2024-11-04T21:04:48.289Z"
   },
   {
    "duration": 139,
    "start_time": "2024-11-04T21:04:48.406Z"
   },
   {
    "duration": 231,
    "start_time": "2024-11-04T21:04:48.547Z"
   },
   {
    "duration": 267,
    "start_time": "2024-11-04T21:04:48.780Z"
   },
   {
    "duration": 33,
    "start_time": "2024-11-04T21:04:49.049Z"
   },
   {
    "duration": 450,
    "start_time": "2024-11-04T21:04:49.084Z"
   },
   {
    "duration": 319,
    "start_time": "2024-11-04T21:04:49.535Z"
   },
   {
    "duration": 675,
    "start_time": "2024-11-04T21:04:49.857Z"
   },
   {
    "duration": 236,
    "start_time": "2024-11-04T21:04:50.533Z"
   },
   {
    "duration": 10876,
    "start_time": "2024-11-04T21:04:50.771Z"
   },
   {
    "duration": 6709,
    "start_time": "2024-11-04T21:05:01.649Z"
   },
   {
    "duration": 410640,
    "start_time": "2024-11-04T21:05:08.360Z"
   },
   {
    "duration": 5677,
    "start_time": "2024-11-04T21:11:59.003Z"
   },
   {
    "duration": 29507,
    "start_time": "2024-11-04T21:12:04.682Z"
   },
   {
    "duration": 1248,
    "start_time": "2024-11-04T21:26:41.530Z"
   },
   {
    "duration": 625,
    "start_time": "2024-11-04T21:26:42.786Z"
   },
   {
    "duration": 158,
    "start_time": "2024-11-04T21:26:43.414Z"
   },
   {
    "duration": 90,
    "start_time": "2024-11-04T21:26:43.574Z"
   },
   {
    "duration": 15,
    "start_time": "2024-11-04T21:26:43.668Z"
   },
   {
    "duration": 15,
    "start_time": "2024-11-04T21:26:43.685Z"
   },
   {
    "duration": 145,
    "start_time": "2024-11-04T21:26:43.702Z"
   },
   {
    "duration": 175,
    "start_time": "2024-11-04T21:26:43.849Z"
   },
   {
    "duration": 319,
    "start_time": "2024-11-04T21:26:44.026Z"
   },
   {
    "duration": 351,
    "start_time": "2024-11-04T21:26:44.348Z"
   },
   {
    "duration": 31,
    "start_time": "2024-11-04T21:26:44.701Z"
   },
   {
    "duration": 562,
    "start_time": "2024-11-04T21:26:44.744Z"
   },
   {
    "duration": 390,
    "start_time": "2024-11-04T21:26:45.309Z"
   },
   {
    "duration": 875,
    "start_time": "2024-11-04T21:26:45.704Z"
   },
   {
    "duration": 255,
    "start_time": "2024-11-04T21:26:46.581Z"
   },
   {
    "duration": 11855,
    "start_time": "2024-11-04T21:26:46.837Z"
   },
   {
    "duration": 7057,
    "start_time": "2024-11-04T21:26:58.694Z"
   },
   {
    "duration": 426198,
    "start_time": "2024-11-04T21:27:05.753Z"
   },
   {
    "duration": 209836,
    "start_time": "2024-11-04T21:34:11.953Z"
   },
   {
    "duration": 30316,
    "start_time": "2024-11-04T21:37:41.791Z"
   },
   {
    "duration": 1128,
    "start_time": "2024-11-04T21:49:48.049Z"
   },
   {
    "duration": 436,
    "start_time": "2024-11-04T21:49:49.179Z"
   },
   {
    "duration": 96,
    "start_time": "2024-11-04T21:49:49.616Z"
   },
   {
    "duration": 67,
    "start_time": "2024-11-04T21:49:49.714Z"
   },
   {
    "duration": 10,
    "start_time": "2024-11-04T21:49:49.783Z"
   },
   {
    "duration": 11,
    "start_time": "2024-11-04T21:49:49.795Z"
   },
   {
    "duration": 113,
    "start_time": "2024-11-04T21:49:49.807Z"
   },
   {
    "duration": 122,
    "start_time": "2024-11-04T21:49:49.922Z"
   },
   {
    "duration": 229,
    "start_time": "2024-11-04T21:49:50.046Z"
   },
   {
    "duration": 245,
    "start_time": "2024-11-04T21:49:50.278Z"
   },
   {
    "duration": 38,
    "start_time": "2024-11-04T21:49:50.524Z"
   },
   {
    "duration": 459,
    "start_time": "2024-11-04T21:49:50.564Z"
   },
   {
    "duration": 346,
    "start_time": "2024-11-04T21:49:51.025Z"
   },
   {
    "duration": 618,
    "start_time": "2024-11-04T21:49:51.374Z"
   },
   {
    "duration": 228,
    "start_time": "2024-11-04T21:49:51.994Z"
   },
   {
    "duration": 10924,
    "start_time": "2024-11-04T21:49:52.224Z"
   },
   {
    "duration": 6752,
    "start_time": "2024-11-04T21:50:03.150Z"
   },
   {
    "duration": 169,
    "start_time": "2024-11-05T00:10:45.113Z"
   },
   {
    "duration": 2983,
    "start_time": "2024-11-05T00:10:50.590Z"
   },
   {
    "duration": 456,
    "start_time": "2024-11-05T00:10:53.576Z"
   },
   {
    "duration": 123,
    "start_time": "2024-11-05T00:10:54.034Z"
   },
   {
    "duration": 71,
    "start_time": "2024-11-05T00:10:54.160Z"
   },
   {
    "duration": 13,
    "start_time": "2024-11-05T00:10:54.235Z"
   },
   {
    "duration": 15,
    "start_time": "2024-11-05T00:10:54.250Z"
   },
   {
    "duration": 114,
    "start_time": "2024-11-05T00:10:54.269Z"
   },
   {
    "duration": 123,
    "start_time": "2024-11-05T00:10:54.386Z"
   },
   {
    "duration": 257,
    "start_time": "2024-11-05T00:10:54.512Z"
   },
   {
    "duration": 257,
    "start_time": "2024-11-05T00:10:54.770Z"
   },
   {
    "duration": 30,
    "start_time": "2024-11-05T00:10:55.032Z"
   },
   {
    "duration": 553,
    "start_time": "2024-11-05T00:10:55.064Z"
   },
   {
    "duration": 367,
    "start_time": "2024-11-05T00:10:55.619Z"
   },
   {
    "duration": 644,
    "start_time": "2024-11-05T00:10:55.990Z"
   },
   {
    "duration": 238,
    "start_time": "2024-11-05T00:10:56.636Z"
   },
   {
    "duration": 1137,
    "start_time": "2024-11-05T00:11:03.470Z"
   },
   {
    "duration": 415,
    "start_time": "2024-11-05T00:11:04.610Z"
   },
   {
    "duration": 95,
    "start_time": "2024-11-05T00:11:05.027Z"
   },
   {
    "duration": 60,
    "start_time": "2024-11-05T00:11:05.132Z"
   },
   {
    "duration": 10,
    "start_time": "2024-11-05T00:11:05.194Z"
   },
   {
    "duration": 34,
    "start_time": "2024-11-05T00:11:05.206Z"
   },
   {
    "duration": 117,
    "start_time": "2024-11-05T00:11:05.241Z"
   },
   {
    "duration": 126,
    "start_time": "2024-11-05T00:11:05.360Z"
   },
   {
    "duration": 229,
    "start_time": "2024-11-05T00:11:05.488Z"
   },
   {
    "duration": 266,
    "start_time": "2024-11-05T00:11:05.721Z"
   },
   {
    "duration": 32,
    "start_time": "2024-11-05T00:11:05.989Z"
   },
   {
    "duration": 485,
    "start_time": "2024-11-05T00:11:06.032Z"
   },
   {
    "duration": 380,
    "start_time": "2024-11-05T00:11:06.519Z"
   },
   {
    "duration": 638,
    "start_time": "2024-11-05T00:11:06.901Z"
   },
   {
    "duration": 264,
    "start_time": "2024-11-05T00:11:07.542Z"
   },
   {
    "duration": 13179,
    "start_time": "2024-11-05T00:11:07.808Z"
   },
   {
    "duration": 7431,
    "start_time": "2024-11-05T00:11:20.988Z"
   },
   {
    "duration": 166,
    "start_time": "2024-11-05T00:35:22.157Z"
   },
   {
    "duration": 1165,
    "start_time": "2024-11-05T00:35:38.930Z"
   },
   {
    "duration": 454,
    "start_time": "2024-11-05T00:35:40.097Z"
   },
   {
    "duration": 97,
    "start_time": "2024-11-05T00:35:40.553Z"
   },
   {
    "duration": 61,
    "start_time": "2024-11-05T00:35:40.652Z"
   },
   {
    "duration": 22,
    "start_time": "2024-11-05T00:35:40.715Z"
   },
   {
    "duration": 12,
    "start_time": "2024-11-05T00:35:40.739Z"
   },
   {
    "duration": 112,
    "start_time": "2024-11-05T00:35:40.752Z"
   },
   {
    "duration": 128,
    "start_time": "2024-11-05T00:35:40.866Z"
   },
   {
    "duration": 220,
    "start_time": "2024-11-05T00:35:40.996Z"
   },
   {
    "duration": 243,
    "start_time": "2024-11-05T00:35:41.219Z"
   },
   {
    "duration": 29,
    "start_time": "2024-11-05T00:35:41.464Z"
   },
   {
    "duration": 438,
    "start_time": "2024-11-05T00:35:41.495Z"
   },
   {
    "duration": 375,
    "start_time": "2024-11-05T00:35:41.935Z"
   },
   {
    "duration": 619,
    "start_time": "2024-11-05T00:35:42.312Z"
   },
   {
    "duration": 240,
    "start_time": "2024-11-05T00:35:42.933Z"
   },
   {
    "duration": 11460,
    "start_time": "2024-11-05T00:35:43.175Z"
   },
   {
    "duration": 7148,
    "start_time": "2024-11-05T00:35:54.637Z"
   },
   {
    "duration": 428004,
    "start_time": "2024-11-05T00:36:01.786Z"
   },
   {
    "duration": 5563,
    "start_time": "2024-11-05T00:43:09.792Z"
   },
   {
    "duration": 29566,
    "start_time": "2024-11-05T00:43:15.356Z"
   },
   {
    "duration": 162,
    "start_time": "2024-11-05T01:45:34.170Z"
   },
   {
    "duration": 1135,
    "start_time": "2024-11-05T01:45:53.466Z"
   },
   {
    "duration": 447,
    "start_time": "2024-11-05T01:45:54.604Z"
   },
   {
    "duration": 96,
    "start_time": "2024-11-05T01:45:55.054Z"
   },
   {
    "duration": 59,
    "start_time": "2024-11-05T01:45:55.152Z"
   },
   {
    "duration": 27,
    "start_time": "2024-11-05T01:45:55.214Z"
   },
   {
    "duration": 12,
    "start_time": "2024-11-05T01:45:55.242Z"
   },
   {
    "duration": 103,
    "start_time": "2024-11-05T01:45:55.256Z"
   },
   {
    "duration": 129,
    "start_time": "2024-11-05T01:45:55.361Z"
   },
   {
    "duration": 228,
    "start_time": "2024-11-05T01:45:55.492Z"
   },
   {
    "duration": 252,
    "start_time": "2024-11-05T01:45:55.721Z"
   },
   {
    "duration": 26,
    "start_time": "2024-11-05T01:45:55.975Z"
   },
   {
    "duration": 469,
    "start_time": "2024-11-05T01:45:56.003Z"
   },
   {
    "duration": 366,
    "start_time": "2024-11-05T01:45:56.474Z"
   },
   {
    "duration": 624,
    "start_time": "2024-11-05T01:45:56.843Z"
   },
   {
    "duration": 261,
    "start_time": "2024-11-05T01:45:57.469Z"
   },
   {
    "duration": 11399,
    "start_time": "2024-11-05T01:45:57.732Z"
   },
   {
    "duration": 6940,
    "start_time": "2024-11-05T01:46:09.137Z"
   },
   {
    "duration": 426491,
    "start_time": "2024-11-05T01:46:16.078Z"
   },
   {
    "duration": 5878,
    "start_time": "2024-11-05T01:53:22.571Z"
   },
   {
    "duration": 29638,
    "start_time": "2024-11-05T01:53:28.451Z"
   }
  ],
  "kernelspec": {
   "display_name": "Python 3 (ipykernel)",
   "language": "python",
   "name": "python3"
  },
  "language_info": {
   "codemirror_mode": {
    "name": "ipython",
    "version": 3
   },
   "file_extension": ".py",
   "mimetype": "text/x-python",
   "name": "python",
   "nbconvert_exporter": "python",
   "pygments_lexer": "ipython3",
   "version": "3.9.19"
  },
  "toc": {
   "base_numbering": 1,
   "nav_menu": {},
   "number_sections": true,
   "sideBar": true,
   "skip_h1_title": true,
   "title_cell": "Table of Contents",
   "title_sidebar": "Contents",
   "toc_cell": false,
   "toc_position": {
    "height": "calc(100% - 180px)",
    "left": "10px",
    "top": "150px",
    "width": "177.391px"
   },
   "toc_section_display": true,
   "toc_window_display": false
  }
 },
 "nbformat": 4,
 "nbformat_minor": 2
}
